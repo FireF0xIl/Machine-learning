{
 "cells": [
  {
   "cell_type": "code",
   "execution_count": 1,
   "metadata": {
    "collapsed": true,
    "ExecuteTime": {
     "start_time": "2023-04-20T15:12:41.907520Z",
     "end_time": "2023-04-20T15:12:45.225463Z"
    }
   },
   "outputs": [],
   "source": [
    "from collections import defaultdict\n",
    "from keras.models import Sequential\n",
    "from keras.layers import Dense\n",
    "from keras.layers import Dropout\n",
    "from keras.layers import LSTM\n",
    "import tensorflow as tf\n",
    "import matplotlib.pyplot as plt\n",
    "import numpy as np\n",
    "import torch\n",
    "from torchvision import datasets, transforms\n",
    "import re\n"
   ]
  },
  {
   "cell_type": "code",
   "execution_count": 2,
   "outputs": [
    {
     "name": "stdout",
     "output_type": "stream",
     "text": [
      "Num GPUs Available:  1\n"
     ]
    }
   ],
   "source": [
    "print(\"Num GPUs Available: \", len(tf.config.list_physical_devices('GPU')))"
   ],
   "metadata": {
    "collapsed": false,
    "ExecuteTime": {
     "start_time": "2023-04-20T15:12:45.226465Z",
     "end_time": "2023-04-20T15:12:45.275463Z"
    }
   }
  },
  {
   "cell_type": "code",
   "execution_count": 3,
   "outputs": [
    {
     "name": "stdout",
     "output_type": "stream",
     "text": [
      "1 Physical GPUs, 1 Logical GPUs\n"
     ]
    }
   ],
   "source": [
    "gpus = tf.config.list_physical_devices('GPU')\n",
    "if gpus:\n",
    "  try:\n",
    "    tf.config.set_logical_device_configuration(\n",
    "        gpus[0],\n",
    "        [tf.config.LogicalDeviceConfiguration(memory_limit=1024*5)])\n",
    "    logical_gpus = tf.config.list_logical_devices('GPU')\n",
    "    print(len(gpus), \"Physical GPUs,\", len(logical_gpus), \"Logical GPUs\")\n",
    "  except RuntimeError as e:\n",
    "    print(e)"
   ],
   "metadata": {
    "collapsed": false
   }
  },
  {
   "cell_type": "code",
   "execution_count": 4,
   "outputs": [],
   "source": [
    "def create_model(X, Y):\n",
    "    model = Sequential(\n",
    "        [\n",
    "            LSTM(512, input_shape=(X.shape[1], X.shape[2]), return_sequences=True),\n",
    "            Dropout(0.25),\n",
    "            LSTM(256),\n",
    "            Dense(Y.shape[1], activation=\"softmax\")\n",
    "        ]\n",
    "    )\n",
    "    model.compile(loss=\"categorical_crossentropy\", optimizer=\"adam\")\n",
    "    return model"
   ],
   "metadata": {
    "collapsed": false,
    "ExecuteTime": {
     "start_time": "2023-04-20T15:12:45.727465Z",
     "end_time": "2023-04-20T15:12:45.740464Z"
    }
   }
  },
  {
   "cell_type": "code",
   "execution_count": 5,
   "outputs": [],
   "source": [
    "def text(filename):\n",
    "    text_load = re.sub(r\"[ё]\", \"е\", open(filename, encoding=\"utf8\").read().lower())\n",
    "    text_load = re.sub(r\"[\\u00A0\\u00A0\\u00A0\\\\n\\\\r\\\"\\\\«»#'<>&$()*-0123456789:;\\[\\]_`abcdefghijklmnopqrstuvwxyz]\", \" \", text_load)\n",
    "    text_load = re.sub(r\"[^а-я\\s.]\", \".\", text_load)\n",
    "    text_load = re.sub(r\"\\s+\", \" \", text_load)\n",
    "    letters = sorted(list(set(text_load)))\n",
    "    table = {}\n",
    "    index = {}\n",
    "    for i, letter in enumerate(letters):\n",
    "        table[letter] = i\n",
    "        index[i] = letter\n",
    "    print(table)\n",
    "    print(index)\n",
    "    print(text_load[:300])\n",
    "    return text_load, table, index, letters"
   ],
   "metadata": {
    "collapsed": false,
    "ExecuteTime": {
     "start_time": "2023-04-20T15:12:45.744466Z",
     "end_time": "2023-04-20T15:12:45.786461Z"
    }
   }
  },
  {
   "cell_type": "code",
   "execution_count": null,
   "outputs": [],
   "source": [
    "text_load, table, ind, letters = text(\"./data/Приключения Тома Сойера.txt\")"
   ],
   "metadata": {
    "collapsed": false,
    "ExecuteTime": {
     "start_time": "2023-04-20T15:12:45.757463Z",
     "end_time": "2023-04-20T15:12:45.804462Z"
    }
   }
  },
  {
   "cell_type": "code",
   "execution_count": null,
   "outputs": [],
   "source": [
    "length = 10\n",
    "dataX = []\n",
    "dataY = []\n",
    "sentences = text_load.split(\".\")\n",
    "for sentence in sentences:\n",
    "    sentence += \".\"\n",
    "    for i in range(len(sentence) - length):\n",
    "        dataX.append(sentence[i:i + length])\n",
    "        dataY.append(sentence[i + length])\n"
   ],
   "metadata": {
    "collapsed": false,
    "ExecuteTime": {
     "start_time": "2023-04-20T15:12:45.805464Z",
     "end_time": "2023-04-20T15:12:45.899464Z"
    }
   }
  },
  {
   "cell_type": "code",
   "execution_count": 8,
   "outputs": [
    {
     "data": {
      "text/plain": "(1202, 337514)"
     },
     "execution_count": 8,
     "metadata": {},
     "output_type": "execute_result"
    }
   ],
   "source": [
    "len(sentences), len(dataX)"
   ],
   "metadata": {
    "collapsed": false,
    "ExecuteTime": {
     "start_time": "2023-04-20T15:12:45.899464Z",
     "end_time": "2023-04-20T15:12:45.960476Z"
    }
   }
  },
  {
   "cell_type": "code",
   "execution_count": null,
   "outputs": [],
   "source": [
    "X, Y = np.zeros(((len(dataX)), length, len(table))), np.zeros(((len(dataX)), len(table)))\n",
    "\n",
    "for i, sentence in enumerate(dataX):\n",
    "    for j, letter in enumerate(sentence):\n",
    "        X[i, j, table[letter]] = 1\n",
    "    Y[i, table[dataY[i]]] = 1\n"
   ],
   "metadata": {
    "collapsed": false,
    "ExecuteTime": {
     "start_time": "2023-04-20T15:12:45.922464Z",
     "end_time": "2023-04-20T15:12:46.662462Z"
    }
   }
  },
  {
   "cell_type": "code",
   "execution_count": 10,
   "outputs": [
    {
     "data": {
      "text/plain": "((337514, 10, 34), (337514, 34))"
     },
     "execution_count": 10,
     "metadata": {},
     "output_type": "execute_result"
    }
   ],
   "source": [
    "X.shape, Y.shape"
   ],
   "metadata": {
    "collapsed": false,
    "ExecuteTime": {
     "start_time": "2023-04-20T15:12:46.663463Z",
     "end_time": "2023-04-20T15:12:46.724462Z"
    }
   }
  },
  {
   "cell_type": "code",
   "execution_count": 11,
   "outputs": [
    {
     "name": "stdout",
     "output_type": "stream",
     "text": [
      "Model: \"sequential\"\n",
      "_________________________________________________________________\n",
      " Layer (type)                Output Shape              Param #   \n",
      "=================================================================\n",
      " lstm (LSTM)                 (None, 10, 512)           1120256   \n",
      "                                                                 \n",
      " dropout (Dropout)           (None, 10, 512)           0         \n",
      "                                                                 \n",
      " lstm_1 (LSTM)               (None, 256)               787456    \n",
      "                                                                 \n",
      " dense (Dense)               (None, 34)                8738      \n",
      "                                                                 \n",
      "=================================================================\n",
      "Total params: 1,916,450\n",
      "Trainable params: 1,916,450\n",
      "Non-trainable params: 0\n",
      "_________________________________________________________________\n"
     ]
    }
   ],
   "source": [
    "model = create_model(X, Y)\n",
    "model.summary()"
   ],
   "metadata": {
    "collapsed": false,
    "ExecuteTime": {
     "start_time": "2023-04-20T15:12:46.679463Z",
     "end_time": "2023-04-20T15:12:47.312462Z"
    }
   }
  },
  {
   "cell_type": "code",
   "execution_count": 12,
   "outputs": [
    {
     "name": "stdout",
     "output_type": "stream",
     "text": [
      "Epoch 1/10\n",
      "10548/10548 [==============================] - 59s 5ms/step - loss: 2.0043\n",
      "Epoch 2/10\n",
      "10548/10548 [==============================] - 54s 5ms/step - loss: 1.6185\n",
      "Epoch 3/10\n",
      "10548/10548 [==============================] - 58s 5ms/step - loss: 1.4969\n",
      "Epoch 4/10\n",
      "10548/10548 [==============================] - 54s 5ms/step - loss: 1.4188\n",
      "Epoch 5/10\n",
      "10548/10548 [==============================] - 75s 7ms/step - loss: 1.3584\n",
      "Epoch 6/10\n",
      "10548/10548 [==============================] - 107s 10ms/step - loss: 1.3079\n",
      "Epoch 7/10\n",
      "10548/10548 [==============================] - 105s 10ms/step - loss: 1.2631\n",
      "Epoch 8/10\n",
      "10548/10548 [==============================] - 100s 9ms/step - loss: 1.2215\n",
      "Epoch 9/10\n",
      "10548/10548 [==============================] - 100s 10ms/step - loss: 1.1813\n",
      "Epoch 10/10\n",
      "10548/10548 [==============================] - 102s 10ms/step - loss: 1.1493\n"
     ]
    }
   ],
   "source": [
    "history = model.fit(X, Y, epochs=10)"
   ],
   "metadata": {
    "collapsed": false,
    "ExecuteTime": {
     "start_time": "2023-04-20T15:12:47.267463Z",
     "end_time": "2023-04-20T15:26:21.420873Z"
    }
   }
  },
  {
   "cell_type": "code",
   "execution_count": 13,
   "outputs": [],
   "source": [
    "lstm_seq = 10\n",
    "iterations = 30"
   ],
   "metadata": {
    "collapsed": false,
    "ExecuteTime": {
     "start_time": "2023-04-20T15:26:21.421877Z",
     "end_time": "2023-04-20T15:26:21.436874Z"
    }
   }
  },
  {
   "cell_type": "code",
   "execution_count": 14,
   "outputs": [],
   "source": [
    "def lstm_predict(inp):\n",
    "    inp = inp.lower()[:lstm_seq]\n",
    "    print(f\"Sample: \\t `{inp}`\")\n",
    "    predict = inp\n",
    "    for _ in range(iterations):\n",
    "        x = np.zeros((1, length, len(table)))\n",
    "        for i, letter in enumerate(inp):\n",
    "            x[0, i, table[letter]] = 1\n",
    "        next = ind[np.argmax(model.predict(x, verbose=0))]\n",
    "        inp = inp.pop(0) + next\n",
    "        predict += next\n",
    "    print(f\"Predict:\\t `{predict}`\")\n",
    "    print()"
   ],
   "metadata": {
    "collapsed": false,
    "ExecuteTime": {
     "start_time": "2023-04-20T15:26:21.440873Z",
     "end_time": "2023-04-20T15:26:21.460893Z"
    }
   }
  },
  {
   "cell_type": "code",
   "execution_count": 15,
   "outputs": [
    {
     "name": "stdout",
     "output_type": "stream",
     "text": [
      "Sample: \t `дя на свое`\n",
      "Predict:\t `дя на своем долго словно остальные событ`\n",
      "\n",
      "Sample: \t `арыты в ка`\n",
      "Predict:\t `арыты в каком нибудь под конец все таки `\n",
      "\n",
      "Sample: \t `ималось пр`\n",
      "Predict:\t `ималось просто на свете он поднимал как `\n",
      "\n",
      "Sample: \t `ошачьи они`\n",
      "Predict:\t `ошачьи они не собралась в полночь он под`\n",
      "\n",
      "Sample: \t `когда не п`\n",
      "Predict:\t `когда не подумал а то что то не слышал к`\n",
      "\n",
      "Sample: \t `взглянул н`\n",
      "Predict:\t `взглянул на него скоро он сказал том отд`\n",
      "\n",
      "Sample: \t `е было вос`\n",
      "Predict:\t `е было воскресенье он не слышал как он н`\n",
      "\n",
      "Sample: \t `мэррела ск`\n",
      "Predict:\t `мэррела сколько просто не было не подума`\n",
      "\n",
      "Sample: \t `сведи мне `\n",
      "Predict:\t `сведи мне не сказал том отделил его до т`\n",
      "\n",
      "Sample: \t `а что если`\n",
      "Predict:\t `а что если бы он не мог придумать свой д`\n",
      "\n"
     ]
    }
   ],
   "source": [
    "for _ in range(10):\n",
    "    lstm_predict(dataX[np.random.randint(len(dataX) - 1)])\n"
   ],
   "metadata": {
    "collapsed": false,
    "ExecuteTime": {
     "start_time": "2023-04-20T15:26:21.452874Z",
     "end_time": "2023-04-20T15:26:35.497874Z"
    }
   }
  },
  {
   "cell_type": "code",
   "execution_count": 16,
   "outputs": [
    {
     "name": "stdout",
     "output_type": "stream",
     "text": [
      "Sample: \t `пожмите мн`\n",
      "Predict:\t `пожмите мне подумал а то что то не слыша`\n",
      "\n"
     ]
    }
   ],
   "source": [
    "lstm_predict(\"Пожмите мне руку - ваши-то пролезут сквозь решетку, а моя нет, слишком велика.\")"
   ],
   "metadata": {
    "collapsed": false,
    "ExecuteTime": {
     "start_time": "2023-04-20T15:26:35.497874Z",
     "end_time": "2023-04-20T15:26:36.912875Z"
    }
   }
  },
  {
   "cell_type": "code",
   "execution_count": 17,
   "outputs": [
    {
     "name": "stdout",
     "output_type": "stream",
     "text": [
      "Sample: \t `дальше в п`\n",
      "Predict:\t `дальше в полночь он поднимал как то в го`\n",
      "\n"
     ]
    }
   ],
   "source": [
    "lstm_predict(\"Дальше в переулке он застал Джо Гарпера с Геком Финном\")"
   ],
   "metadata": {
    "collapsed": false,
    "ExecuteTime": {
     "start_time": "2023-04-20T15:26:36.912875Z",
     "end_time": "2023-04-20T15:26:38.311875Z"
    }
   }
  },
  {
   "cell_type": "code",
   "execution_count": 18,
   "outputs": [
    {
     "name": "stdout",
     "output_type": "stream",
     "text": [
      "Sample: \t `шайка тома`\n",
      "Predict:\t `шайка тома не было не подумал а то что т`\n",
      "\n"
     ]
    }
   ],
   "source": [
    "lstm_predict(\"Шайка Тома Сойера здорово получается, правда\")"
   ],
   "metadata": {
    "collapsed": false,
    "ExecuteTime": {
     "start_time": "2023-04-20T15:26:38.314873Z",
     "end_time": "2023-04-20T15:26:39.749875Z"
    }
   }
  },
  {
   "cell_type": "code",
   "execution_count": 19,
   "outputs": [
    {
     "name": "stdout",
     "output_type": "stream",
     "text": [
      "Sample: \t `мальчики п`\n",
      "Predict:\t `мальчики подождали кошкой и положив под `\n",
      "\n"
     ]
    }
   ],
   "source": [
    "lstm_predict(\"Мальчики после этого играли в цирк целых\")"
   ],
   "metadata": {
    "collapsed": false,
    "ExecuteTime": {
     "start_time": "2023-04-20T15:26:39.749875Z",
     "end_time": "2023-04-20T15:26:41.197874Z"
    }
   }
  },
  {
   "cell_type": "code",
   "execution_count": 20,
   "outputs": [
    {
     "name": "stdout",
     "output_type": "stream",
     "text": [
      "Sample: \t `джим холли`\n",
      "Predict:\t `джим холлис выследить на колени и стали `\n",
      "\n"
     ]
    }
   ],
   "source": [
    "lstm_predict(\"Джим Холлис, которого он долго разыскивал, сказал,\")"
   ],
   "metadata": {
    "collapsed": false,
    "ExecuteTime": {
     "start_time": "2023-04-20T15:26:41.198875Z",
     "end_time": "2023-04-20T15:26:42.709875Z"
    }
   }
  },
  {
   "cell_type": "code",
   "execution_count": 21,
   "outputs": [],
   "source": [
    "class MarkovChain:\n",
    "    def __init__(self, sentences, n):\n",
    "        self.n = n\n",
    "        self.dataX = []\n",
    "        letters = []\n",
    "        for sentence in sentences:\n",
    "            sentence += \".\"\n",
    "            for i in range(len(sentence) - n):\n",
    "                self.dataX.append(sentence[i : i + n])\n",
    "                letters.append(sentence[i + n])\n",
    "        self.edges = defaultdict(lambda: defaultdict(lambda: 0))\n",
    "        for sentence, letter in zip(self.dataX, letters):\n",
    "            self.edges[sentence][letter] += 1\n",
    "\n",
    "    def predict(self, string):\n",
    "        string = string.lower()[:self.n]\n",
    "        ans = string\n",
    "        print(ans)\n",
    "        for _ in range(50):\n",
    "            next = [letter for letter in self.edges[string]]\n",
    "            predict = np.array([_ for _ in self.edges[string].values()])\n",
    "            if len(predict) == 0:\n",
    "                break\n",
    "            predict = predict / predict.sum()\n",
    "            letter = next[np.argmax(predict)]\n",
    "            string = string[1:] + letter\n",
    "            ans += letter\n",
    "        return ans"
   ],
   "metadata": {
    "collapsed": false,
    "ExecuteTime": {
     "start_time": "2023-04-20T15:26:42.710874Z",
     "end_time": "2023-04-20T15:26:42.725874Z"
    }
   }
  },
  {
   "cell_type": "code",
   "execution_count": 22,
   "outputs": [],
   "source": [
    "seq = 8\n",
    "markov = MarkovChain(sentences, seq)"
   ],
   "metadata": {
    "collapsed": false,
    "ExecuteTime": {
     "start_time": "2023-04-20T15:26:42.725874Z",
     "end_time": "2023-04-20T15:26:43.461873Z"
    }
   }
  },
  {
   "cell_type": "code",
   "execution_count": 23,
   "outputs": [
    {
     "name": "stdout",
     "output_type": "stream",
     "text": [
      "пожмите \n"
     ]
    },
    {
     "data": {
      "text/plain": "'пожмите мне в глава проснувшихся сторожевых собак у них на'"
     },
     "execution_count": 23,
     "metadata": {},
     "output_type": "execute_result"
    }
   ],
   "source": [
    "markov.predict(\"Пожмите мне руку - ваши-то пролезут сквозь решетку, а моя нет, слишком велика.\")"
   ],
   "metadata": {
    "collapsed": false,
    "ExecuteTime": {
     "start_time": "2023-04-20T15:26:43.462875Z",
     "end_time": "2023-04-20T15:26:43.477873Z"
    }
   }
  },
  {
   "cell_type": "code",
   "execution_count": 24,
   "outputs": [
    {
     "name": "stdout",
     "output_type": "stream",
     "text": [
      "дальше в\n"
     ]
    },
    {
     "data": {
      "text/plain": "'дальше вздрагивая каждый день а вот джеф тэтчер побледнела'"
     },
     "execution_count": 24,
     "metadata": {},
     "output_type": "execute_result"
    }
   ],
   "source": [
    "markov.predict(\"Дальше в переулке он застал Джо Гарпера с Геком Финном\")"
   ],
   "metadata": {
    "collapsed": false,
    "ExecuteTime": {
     "start_time": "2023-04-20T15:26:43.478874Z",
     "end_time": "2023-04-20T15:26:43.537893Z"
    }
   }
  },
  {
   "cell_type": "code",
   "execution_count": 25,
   "outputs": [
    {
     "name": "stdout",
     "output_type": "stream",
     "text": [
      "шайка то\n"
     ]
    },
    {
     "data": {
      "text/plain": "'шайка тома сказала что он сам так безбоязненно идет к ней '"
     },
     "execution_count": 25,
     "metadata": {},
     "output_type": "execute_result"
    }
   ],
   "source": [
    "markov.predict(\"Шайка Тома Сойера здорово получается, правда\".lower()[:seq])"
   ],
   "metadata": {
    "collapsed": false,
    "ExecuteTime": {
     "start_time": "2023-04-20T15:26:43.493887Z",
     "end_time": "2023-04-20T15:26:43.541878Z"
    }
   }
  },
  {
   "cell_type": "code",
   "execution_count": 26,
   "outputs": [
    {
     "name": "stdout",
     "output_type": "stream",
     "text": [
      "мальчики\n"
     ]
    },
    {
     "data": {
      "text/plain": "'мальчики все теперь он покраснела и вообще не очень огорчи'"
     },
     "execution_count": 26,
     "metadata": {},
     "output_type": "execute_result"
    }
   ],
   "source": [
    "markov.predict(\"Мальчики после этого играли в цирк целых\")"
   ],
   "metadata": {
    "collapsed": false,
    "ExecuteTime": {
     "start_time": "2023-04-20T15:26:43.511874Z",
     "end_time": "2023-04-20T15:26:43.541878Z"
    }
   }
  },
  {
   "cell_type": "code",
   "execution_count": 27,
   "outputs": [
    {
     "name": "stdout",
     "output_type": "stream",
     "text": [
      "джим хол\n"
     ]
    },
    {
     "data": {
      "text/plain": "'джим холлис которой он обращался домой в самом деле то ест'"
     },
     "execution_count": 27,
     "metadata": {},
     "output_type": "execute_result"
    }
   ],
   "source": [
    "markov.predict(\"Джим Холлис, которого он долго разыскивал, сказал,\")"
   ],
   "metadata": {
    "collapsed": false,
    "ExecuteTime": {
     "start_time": "2023-04-20T15:26:43.525875Z",
     "end_time": "2023-04-20T15:26:43.541878Z"
    }
   }
  },
  {
   "cell_type": "code",
   "execution_count": 27,
   "outputs": [],
   "source": [],
   "metadata": {
    "collapsed": false,
    "ExecuteTime": {
     "start_time": "2023-04-20T15:26:43.539873Z",
     "end_time": "2023-04-20T15:26:43.555873Z"
    }
   }
  }
 ],
 "metadata": {
  "kernelspec": {
   "display_name": "Python 3",
   "language": "python",
   "name": "python3"
  },
  "language_info": {
   "codemirror_mode": {
    "name": "ipython",
    "version": 2
   },
   "file_extension": ".py",
   "mimetype": "text/x-python",
   "name": "python",
   "nbconvert_exporter": "python",
   "pygments_lexer": "ipython2",
   "version": "2.7.6"
  }
 },
 "nbformat": 4,
 "nbformat_minor": 0
}
