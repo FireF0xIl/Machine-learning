{
 "cells": [
  {
   "cell_type": "code",
   "execution_count": 1,
   "metadata": {
    "collapsed": true,
    "ExecuteTime": {
     "start_time": "2023-05-25T14:51:53.939017Z",
     "end_time": "2023-05-25T14:51:54.316982Z"
    }
   },
   "outputs": [],
   "source": [
    "import matplotlib.pyplot as plt\n",
    "import numpy as np\n",
    "import pandas as pd\n",
    "from sklearn.neighbors import KNeighborsClassifier\n",
    "from sklearn.preprocessing import StandardScaler, MinMaxScaler\n",
    "from sklearn.utils import shuffle\n",
    "import seaborn as sns\n",
    "from sklearn.metrics import accuracy_score\n",
    "from sklearn.tree import DecisionTreeClassifier\n",
    "from sklearn.svm import SVC\n",
    "from sklearn.ensemble import RandomForestClassifier\n",
    "from sklearn.feature_extraction.text import TfidfVectorizer\n",
    "from sklearn.model_selection import train_test_split\n",
    "from sklearn.feature_selection import VarianceThreshold, SelectKBest, chi2, RFE, SelectFromModel\n",
    "from sklearn.linear_model import LogisticRegression\n",
    "pd.options.mode.chained_assignment = None\n",
    "import warnings\n",
    "warnings.filterwarnings('ignore')\n"
   ]
  },
  {
   "cell_type": "code",
   "execution_count": 2,
   "outputs": [],
   "source": [
    "plt.rcParams['figure.figsize'] = (24, 10)\n",
    "plt.rcParams['font.size'] = 14"
   ],
   "metadata": {
    "collapsed": false,
    "ExecuteTime": {
     "start_time": "2023-05-25T14:51:54.317927Z",
     "end_time": "2023-05-25T14:51:54.330989Z"
    }
   }
  },
  {
   "cell_type": "code",
   "execution_count": 3,
   "outputs": [],
   "source": [
    "object_count = 30"
   ],
   "metadata": {
    "collapsed": false,
    "ExecuteTime": {
     "start_time": "2023-05-25T14:51:54.331959Z",
     "end_time": "2023-05-25T14:51:54.349952Z"
    }
   }
  },
  {
   "cell_type": "code",
   "execution_count": 4,
   "outputs": [
    {
     "data": {
      "text/plain": "     class                                               text\n0      ham  Go until jurong point, crazy.. Available only ...\n1      ham                      Ok lar... Joking wif u oni...\n2     spam  Free entry in 2 a wkly comp to win FA Cup fina...\n3      ham  U dun say so early hor... U c already then say...\n4      ham  Nah I don't think he goes to usf, he lives aro...\n...    ...                                                ...\n5567  spam  This is the 2nd time we have tried 2 contact u...\n5568   ham               Will ü b going to esplanade fr home?\n5569   ham  Pity, * was in mood for that. So...any other s...\n5570   ham  The guy did some bitching but I acted like i'd...\n5571   ham                         Rofl. Its true to its name\n\n[5572 rows x 2 columns]",
      "text/html": "<div>\n<style scoped>\n    .dataframe tbody tr th:only-of-type {\n        vertical-align: middle;\n    }\n\n    .dataframe tbody tr th {\n        vertical-align: top;\n    }\n\n    .dataframe thead th {\n        text-align: right;\n    }\n</style>\n<table border=\"1\" class=\"dataframe\">\n  <thead>\n    <tr style=\"text-align: right;\">\n      <th></th>\n      <th>class</th>\n      <th>text</th>\n    </tr>\n  </thead>\n  <tbody>\n    <tr>\n      <th>0</th>\n      <td>ham</td>\n      <td>Go until jurong point, crazy.. Available only ...</td>\n    </tr>\n    <tr>\n      <th>1</th>\n      <td>ham</td>\n      <td>Ok lar... Joking wif u oni...</td>\n    </tr>\n    <tr>\n      <th>2</th>\n      <td>spam</td>\n      <td>Free entry in 2 a wkly comp to win FA Cup fina...</td>\n    </tr>\n    <tr>\n      <th>3</th>\n      <td>ham</td>\n      <td>U dun say so early hor... U c already then say...</td>\n    </tr>\n    <tr>\n      <th>4</th>\n      <td>ham</td>\n      <td>Nah I don't think he goes to usf, he lives aro...</td>\n    </tr>\n    <tr>\n      <th>...</th>\n      <td>...</td>\n      <td>...</td>\n    </tr>\n    <tr>\n      <th>5567</th>\n      <td>spam</td>\n      <td>This is the 2nd time we have tried 2 contact u...</td>\n    </tr>\n    <tr>\n      <th>5568</th>\n      <td>ham</td>\n      <td>Will ü b going to esplanade fr home?</td>\n    </tr>\n    <tr>\n      <th>5569</th>\n      <td>ham</td>\n      <td>Pity, * was in mood for that. So...any other s...</td>\n    </tr>\n    <tr>\n      <th>5570</th>\n      <td>ham</td>\n      <td>The guy did some bitching but I acted like i'd...</td>\n    </tr>\n    <tr>\n      <th>5571</th>\n      <td>ham</td>\n      <td>Rofl. Its true to its name</td>\n    </tr>\n  </tbody>\n</table>\n<p>5572 rows × 2 columns</p>\n</div>"
     },
     "execution_count": 4,
     "metadata": {},
     "output_type": "execute_result"
    }
   ],
   "source": [
    "# df = pd.read_table(\"./data/castle-or-lock.tsv\")\n",
    "df = pd.read_table(\"./data/SMS.tsv\")\n",
    "df"
   ],
   "metadata": {
    "collapsed": false,
    "ExecuteTime": {
     "start_time": "2023-05-25T14:51:54.346927Z",
     "end_time": "2023-05-25T14:51:54.440923Z"
    }
   }
  },
  {
   "cell_type": "code",
   "execution_count": 5,
   "outputs": [
    {
     "data": {
      "text/plain": "       class                    text\ncount   5572                    5572\nunique     2                    5169\ntop      ham  Sorry, I'll call later\nfreq    4825                      30",
      "text/html": "<div>\n<style scoped>\n    .dataframe tbody tr th:only-of-type {\n        vertical-align: middle;\n    }\n\n    .dataframe tbody tr th {\n        vertical-align: top;\n    }\n\n    .dataframe thead th {\n        text-align: right;\n    }\n</style>\n<table border=\"1\" class=\"dataframe\">\n  <thead>\n    <tr style=\"text-align: right;\">\n      <th></th>\n      <th>class</th>\n      <th>text</th>\n    </tr>\n  </thead>\n  <tbody>\n    <tr>\n      <th>count</th>\n      <td>5572</td>\n      <td>5572</td>\n    </tr>\n    <tr>\n      <th>unique</th>\n      <td>2</td>\n      <td>5169</td>\n    </tr>\n    <tr>\n      <th>top</th>\n      <td>ham</td>\n      <td>Sorry, I'll call later</td>\n    </tr>\n    <tr>\n      <th>freq</th>\n      <td>4825</td>\n      <td>30</td>\n    </tr>\n  </tbody>\n</table>\n</div>"
     },
     "execution_count": 5,
     "metadata": {},
     "output_type": "execute_result"
    }
   ],
   "source": [
    "df.describe()"
   ],
   "metadata": {
    "collapsed": false,
    "ExecuteTime": {
     "start_time": "2023-05-25T14:51:54.447006Z",
     "end_time": "2023-05-25T14:51:54.463993Z"
    }
   }
  },
  {
   "cell_type": "code",
   "execution_count": 6,
   "outputs": [
    {
     "data": {
      "text/plain": "0       Go until jurong point, crazy.. Available only ...\n1                           Ok lar... Joking wif u oni...\n2       Free entry in 2 a wkly comp to win FA Cup fina...\n3       U dun say so early hor... U c already then say...\n4       Nah I don't think he goes to usf, he lives aro...\n                              ...                        \n5567    This is the 2nd time we have tried 2 contact u...\n5568                 Will ü b going to esplanade fr home?\n5569    Pity, * was in mood for that. So...any other s...\n5570    The guy did some bitching but I acted like i'd...\n5571                           Rofl. Its true to its name\nName: text, Length: 5572, dtype: object"
     },
     "execution_count": 6,
     "metadata": {},
     "output_type": "execute_result"
    }
   ],
   "source": [
    "df.text"
   ],
   "metadata": {
    "collapsed": false,
    "ExecuteTime": {
     "start_time": "2023-05-25T14:51:54.453892Z",
     "end_time": "2023-05-25T14:51:54.515033Z"
    }
   }
  },
  {
   "cell_type": "code",
   "execution_count": 7,
   "outputs": [
    {
     "data": {
      "text/plain": "array(['aathi', 'abiola', 'able', ..., 'yours', 'yourself', 'yummy'],\n      dtype=object)"
     },
     "execution_count": 7,
     "metadata": {},
     "output_type": "execute_result"
    }
   ],
   "source": [
    "vectorizer = TfidfVectorizer(min_df=3, token_pattern=\"([^\\d\\W]{4,})\")\n",
    "X = vectorizer.fit_transform(df.text)\n",
    "vectorizer.get_feature_names_out()"
   ],
   "metadata": {
    "collapsed": false,
    "ExecuteTime": {
     "start_time": "2023-05-25T14:51:54.468954Z",
     "end_time": "2023-05-25T14:51:54.577003Z"
    }
   }
  },
  {
   "cell_type": "code",
   "execution_count": 8,
   "outputs": [
    {
     "data": {
      "text/plain": "<5572x2106 sparse matrix of type '<class 'numpy.float64'>'\n\twith 35532 stored elements in Compressed Sparse Row format>"
     },
     "execution_count": 8,
     "metadata": {},
     "output_type": "execute_result"
    }
   ],
   "source": [
    "X"
   ],
   "metadata": {
    "collapsed": false,
    "ExecuteTime": {
     "start_time": "2023-05-25T14:51:54.533930Z",
     "end_time": "2023-05-25T14:51:54.577997Z"
    }
   }
  },
  {
   "cell_type": "code",
   "execution_count": 9,
   "outputs": [],
   "source": [
    "feature = pd.DataFrame(X.toarray(), columns=vectorizer.get_feature_names_out())"
   ],
   "metadata": {
    "collapsed": false,
    "ExecuteTime": {
     "start_time": "2023-05-25T14:51:54.547927Z",
     "end_time": "2023-05-25T14:51:54.580928Z"
    }
   }
  },
  {
   "cell_type": "code",
   "execution_count": 10,
   "outputs": [
    {
     "data": {
      "text/plain": "      aathi  abiola  able  about  abta  accept  access  accident  \\\n0       0.0     0.0   0.0    0.0   0.0     0.0     0.0       0.0   \n1       0.0     0.0   0.0    0.0   0.0     0.0     0.0       0.0   \n2       0.0     0.0   0.0    0.0   0.0     0.0     0.0       0.0   \n3       0.0     0.0   0.0    0.0   0.0     0.0     0.0       0.0   \n4       0.0     0.0   0.0    0.0   0.0     0.0     0.0       0.0   \n...     ...     ...   ...    ...   ...     ...     ...       ...   \n5567    0.0     0.0   0.0    0.0   0.0     0.0     0.0       0.0   \n5568    0.0     0.0   0.0    0.0   0.0     0.0     0.0       0.0   \n5569    0.0     0.0   0.0    0.0   0.0     0.0     0.0       0.0   \n5570    0.0     0.0   0.0    0.0   0.0     0.0     0.0       0.0   \n5571    0.0     0.0   0.0    0.0   0.0     0.0     0.0       0.0   \n\n      accidentally  accordingly  ...  yest  yesterday  yetunde  yijue  yoga  \\\n0              0.0          0.0  ...   0.0        0.0      0.0    0.0   0.0   \n1              0.0          0.0  ...   0.0        0.0      0.0    0.0   0.0   \n2              0.0          0.0  ...   0.0        0.0      0.0    0.0   0.0   \n3              0.0          0.0  ...   0.0        0.0      0.0    0.0   0.0   \n4              0.0          0.0  ...   0.0        0.0      0.0    0.0   0.0   \n...            ...          ...  ...   ...        ...      ...    ...   ...   \n5567           0.0          0.0  ...   0.0        0.0      0.0    0.0   0.0   \n5568           0.0          0.0  ...   0.0        0.0      0.0    0.0   0.0   \n5569           0.0          0.0  ...   0.0        0.0      0.0    0.0   0.0   \n5570           0.0          0.0  ...   0.0        0.0      0.0    0.0   0.0   \n5571           0.0          0.0  ...   0.0        0.0      0.0    0.0   0.0   \n\n      yogasana  your  yours  yourself  yummy  \n0          0.0   0.0    0.0       0.0    0.0  \n1          0.0   0.0    0.0       0.0    0.0  \n2          0.0   0.0    0.0       0.0    0.0  \n3          0.0   0.0    0.0       0.0    0.0  \n4          0.0   0.0    0.0       0.0    0.0  \n...        ...   ...    ...       ...    ...  \n5567       0.0   0.0    0.0       0.0    0.0  \n5568       0.0   0.0    0.0       0.0    0.0  \n5569       0.0   0.0    0.0       0.0    0.0  \n5570       0.0   0.0    0.0       0.0    0.0  \n5571       0.0   0.0    0.0       0.0    0.0  \n\n[5572 rows x 2106 columns]",
      "text/html": "<div>\n<style scoped>\n    .dataframe tbody tr th:only-of-type {\n        vertical-align: middle;\n    }\n\n    .dataframe tbody tr th {\n        vertical-align: top;\n    }\n\n    .dataframe thead th {\n        text-align: right;\n    }\n</style>\n<table border=\"1\" class=\"dataframe\">\n  <thead>\n    <tr style=\"text-align: right;\">\n      <th></th>\n      <th>aathi</th>\n      <th>abiola</th>\n      <th>able</th>\n      <th>about</th>\n      <th>abta</th>\n      <th>accept</th>\n      <th>access</th>\n      <th>accident</th>\n      <th>accidentally</th>\n      <th>accordingly</th>\n      <th>...</th>\n      <th>yest</th>\n      <th>yesterday</th>\n      <th>yetunde</th>\n      <th>yijue</th>\n      <th>yoga</th>\n      <th>yogasana</th>\n      <th>your</th>\n      <th>yours</th>\n      <th>yourself</th>\n      <th>yummy</th>\n    </tr>\n  </thead>\n  <tbody>\n    <tr>\n      <th>0</th>\n      <td>0.0</td>\n      <td>0.0</td>\n      <td>0.0</td>\n      <td>0.0</td>\n      <td>0.0</td>\n      <td>0.0</td>\n      <td>0.0</td>\n      <td>0.0</td>\n      <td>0.0</td>\n      <td>0.0</td>\n      <td>...</td>\n      <td>0.0</td>\n      <td>0.0</td>\n      <td>0.0</td>\n      <td>0.0</td>\n      <td>0.0</td>\n      <td>0.0</td>\n      <td>0.0</td>\n      <td>0.0</td>\n      <td>0.0</td>\n      <td>0.0</td>\n    </tr>\n    <tr>\n      <th>1</th>\n      <td>0.0</td>\n      <td>0.0</td>\n      <td>0.0</td>\n      <td>0.0</td>\n      <td>0.0</td>\n      <td>0.0</td>\n      <td>0.0</td>\n      <td>0.0</td>\n      <td>0.0</td>\n      <td>0.0</td>\n      <td>...</td>\n      <td>0.0</td>\n      <td>0.0</td>\n      <td>0.0</td>\n      <td>0.0</td>\n      <td>0.0</td>\n      <td>0.0</td>\n      <td>0.0</td>\n      <td>0.0</td>\n      <td>0.0</td>\n      <td>0.0</td>\n    </tr>\n    <tr>\n      <th>2</th>\n      <td>0.0</td>\n      <td>0.0</td>\n      <td>0.0</td>\n      <td>0.0</td>\n      <td>0.0</td>\n      <td>0.0</td>\n      <td>0.0</td>\n      <td>0.0</td>\n      <td>0.0</td>\n      <td>0.0</td>\n      <td>...</td>\n      <td>0.0</td>\n      <td>0.0</td>\n      <td>0.0</td>\n      <td>0.0</td>\n      <td>0.0</td>\n      <td>0.0</td>\n      <td>0.0</td>\n      <td>0.0</td>\n      <td>0.0</td>\n      <td>0.0</td>\n    </tr>\n    <tr>\n      <th>3</th>\n      <td>0.0</td>\n      <td>0.0</td>\n      <td>0.0</td>\n      <td>0.0</td>\n      <td>0.0</td>\n      <td>0.0</td>\n      <td>0.0</td>\n      <td>0.0</td>\n      <td>0.0</td>\n      <td>0.0</td>\n      <td>...</td>\n      <td>0.0</td>\n      <td>0.0</td>\n      <td>0.0</td>\n      <td>0.0</td>\n      <td>0.0</td>\n      <td>0.0</td>\n      <td>0.0</td>\n      <td>0.0</td>\n      <td>0.0</td>\n      <td>0.0</td>\n    </tr>\n    <tr>\n      <th>4</th>\n      <td>0.0</td>\n      <td>0.0</td>\n      <td>0.0</td>\n      <td>0.0</td>\n      <td>0.0</td>\n      <td>0.0</td>\n      <td>0.0</td>\n      <td>0.0</td>\n      <td>0.0</td>\n      <td>0.0</td>\n      <td>...</td>\n      <td>0.0</td>\n      <td>0.0</td>\n      <td>0.0</td>\n      <td>0.0</td>\n      <td>0.0</td>\n      <td>0.0</td>\n      <td>0.0</td>\n      <td>0.0</td>\n      <td>0.0</td>\n      <td>0.0</td>\n    </tr>\n    <tr>\n      <th>...</th>\n      <td>...</td>\n      <td>...</td>\n      <td>...</td>\n      <td>...</td>\n      <td>...</td>\n      <td>...</td>\n      <td>...</td>\n      <td>...</td>\n      <td>...</td>\n      <td>...</td>\n      <td>...</td>\n      <td>...</td>\n      <td>...</td>\n      <td>...</td>\n      <td>...</td>\n      <td>...</td>\n      <td>...</td>\n      <td>...</td>\n      <td>...</td>\n      <td>...</td>\n      <td>...</td>\n    </tr>\n    <tr>\n      <th>5567</th>\n      <td>0.0</td>\n      <td>0.0</td>\n      <td>0.0</td>\n      <td>0.0</td>\n      <td>0.0</td>\n      <td>0.0</td>\n      <td>0.0</td>\n      <td>0.0</td>\n      <td>0.0</td>\n      <td>0.0</td>\n      <td>...</td>\n      <td>0.0</td>\n      <td>0.0</td>\n      <td>0.0</td>\n      <td>0.0</td>\n      <td>0.0</td>\n      <td>0.0</td>\n      <td>0.0</td>\n      <td>0.0</td>\n      <td>0.0</td>\n      <td>0.0</td>\n    </tr>\n    <tr>\n      <th>5568</th>\n      <td>0.0</td>\n      <td>0.0</td>\n      <td>0.0</td>\n      <td>0.0</td>\n      <td>0.0</td>\n      <td>0.0</td>\n      <td>0.0</td>\n      <td>0.0</td>\n      <td>0.0</td>\n      <td>0.0</td>\n      <td>...</td>\n      <td>0.0</td>\n      <td>0.0</td>\n      <td>0.0</td>\n      <td>0.0</td>\n      <td>0.0</td>\n      <td>0.0</td>\n      <td>0.0</td>\n      <td>0.0</td>\n      <td>0.0</td>\n      <td>0.0</td>\n    </tr>\n    <tr>\n      <th>5569</th>\n      <td>0.0</td>\n      <td>0.0</td>\n      <td>0.0</td>\n      <td>0.0</td>\n      <td>0.0</td>\n      <td>0.0</td>\n      <td>0.0</td>\n      <td>0.0</td>\n      <td>0.0</td>\n      <td>0.0</td>\n      <td>...</td>\n      <td>0.0</td>\n      <td>0.0</td>\n      <td>0.0</td>\n      <td>0.0</td>\n      <td>0.0</td>\n      <td>0.0</td>\n      <td>0.0</td>\n      <td>0.0</td>\n      <td>0.0</td>\n      <td>0.0</td>\n    </tr>\n    <tr>\n      <th>5570</th>\n      <td>0.0</td>\n      <td>0.0</td>\n      <td>0.0</td>\n      <td>0.0</td>\n      <td>0.0</td>\n      <td>0.0</td>\n      <td>0.0</td>\n      <td>0.0</td>\n      <td>0.0</td>\n      <td>0.0</td>\n      <td>...</td>\n      <td>0.0</td>\n      <td>0.0</td>\n      <td>0.0</td>\n      <td>0.0</td>\n      <td>0.0</td>\n      <td>0.0</td>\n      <td>0.0</td>\n      <td>0.0</td>\n      <td>0.0</td>\n      <td>0.0</td>\n    </tr>\n    <tr>\n      <th>5571</th>\n      <td>0.0</td>\n      <td>0.0</td>\n      <td>0.0</td>\n      <td>0.0</td>\n      <td>0.0</td>\n      <td>0.0</td>\n      <td>0.0</td>\n      <td>0.0</td>\n      <td>0.0</td>\n      <td>0.0</td>\n      <td>...</td>\n      <td>0.0</td>\n      <td>0.0</td>\n      <td>0.0</td>\n      <td>0.0</td>\n      <td>0.0</td>\n      <td>0.0</td>\n      <td>0.0</td>\n      <td>0.0</td>\n      <td>0.0</td>\n      <td>0.0</td>\n    </tr>\n  </tbody>\n</table>\n<p>5572 rows × 2106 columns</p>\n</div>"
     },
     "execution_count": 10,
     "metadata": {},
     "output_type": "execute_result"
    }
   ],
   "source": [
    "feature"
   ],
   "metadata": {
    "collapsed": false,
    "ExecuteTime": {
     "start_time": "2023-05-25T14:51:54.579944Z",
     "end_time": "2023-05-25T14:51:54.656993Z"
    }
   }
  },
  {
   "cell_type": "code",
   "execution_count": 11,
   "outputs": [
    {
     "data": {
      "text/plain": "Index(['aathi', 'abiola', 'able', 'about', 'abta', 'accept', 'access',\n       'accident', 'accidentally', 'accordingly',\n       ...\n       'yest', 'yesterday', 'yetunde', 'yijue', 'yoga', 'yogasana', 'your',\n       'yours', 'yourself', 'yummy'],\n      dtype='object', length=2106)"
     },
     "execution_count": 11,
     "metadata": {},
     "output_type": "execute_result"
    }
   ],
   "source": [
    "feature.columns"
   ],
   "metadata": {
    "collapsed": false,
    "ExecuteTime": {
     "start_time": "2023-05-25T14:51:54.611936Z",
     "end_time": "2023-05-25T14:51:54.660997Z"
    }
   }
  },
  {
   "cell_type": "code",
   "execution_count": 12,
   "outputs": [
    {
     "data": {
      "text/plain": "(5572, 2106)"
     },
     "execution_count": 12,
     "metadata": {},
     "output_type": "execute_result"
    }
   ],
   "source": [
    "feature.shape"
   ],
   "metadata": {
    "collapsed": false,
    "ExecuteTime": {
     "start_time": "2023-05-25T14:51:54.627928Z",
     "end_time": "2023-05-25T14:51:54.719011Z"
    }
   }
  },
  {
   "cell_type": "code",
   "execution_count": 13,
   "outputs": [
    {
     "data": {
      "text/plain": "      aathi  abiola  able  about  account  actually  address  advance  after  \\\n0       0.0     0.0   0.0    0.0      0.0       0.0      0.0      0.0    0.0   \n1       0.0     0.0   0.0    0.0      0.0       0.0      0.0      0.0    0.0   \n2       0.0     0.0   0.0    0.0      0.0       0.0      0.0      0.0    0.0   \n3       0.0     0.0   0.0    0.0      0.0       0.0      0.0      0.0    0.0   \n4       0.0     0.0   0.0    0.0      0.0       0.0      0.0      0.0    0.0   \n...     ...     ...   ...    ...      ...       ...      ...      ...    ...   \n5567    0.0     0.0   0.0    0.0      0.0       0.0      0.0      0.0    0.0   \n5568    0.0     0.0   0.0    0.0      0.0       0.0      0.0      0.0    0.0   \n5569    0.0     0.0   0.0    0.0      0.0       0.0      0.0      0.0    0.0   \n5570    0.0     0.0   0.0    0.0      0.0       0.0      0.0      0.0    0.0   \n5571    0.0     0.0   0.0    0.0      0.0       0.0      0.0      0.0    0.0   \n\n      afternoon  ...  wrong  xmas  yeah  year  years  yesterday  yijue  your  \\\n0           0.0  ...    0.0   0.0   0.0   0.0    0.0        0.0    0.0   0.0   \n1           0.0  ...    0.0   0.0   0.0   0.0    0.0        0.0    0.0   0.0   \n2           0.0  ...    0.0   0.0   0.0   0.0    0.0        0.0    0.0   0.0   \n3           0.0  ...    0.0   0.0   0.0   0.0    0.0        0.0    0.0   0.0   \n4           0.0  ...    0.0   0.0   0.0   0.0    0.0        0.0    0.0   0.0   \n...         ...  ...    ...   ...   ...   ...    ...        ...    ...   ...   \n5567        0.0  ...    0.0   0.0   0.0   0.0    0.0        0.0    0.0   0.0   \n5568        0.0  ...    0.0   0.0   0.0   0.0    0.0        0.0    0.0   0.0   \n5569        0.0  ...    0.0   0.0   0.0   0.0    0.0        0.0    0.0   0.0   \n5570        0.0  ...    0.0   0.0   0.0   0.0    0.0        0.0    0.0   0.0   \n5571        0.0  ...    0.0   0.0   0.0   0.0    0.0        0.0    0.0   0.0   \n\n      yours  yourself  \n0       0.0       0.0  \n1       0.0       0.0  \n2       0.0       0.0  \n3       0.0       0.0  \n4       0.0       0.0  \n...     ...       ...  \n5567    0.0       0.0  \n5568    0.0       0.0  \n5569    0.0       0.0  \n5570    0.0       0.0  \n5571    0.0       0.0  \n\n[5572 rows x 831 columns]",
      "text/html": "<div>\n<style scoped>\n    .dataframe tbody tr th:only-of-type {\n        vertical-align: middle;\n    }\n\n    .dataframe tbody tr th {\n        vertical-align: top;\n    }\n\n    .dataframe thead th {\n        text-align: right;\n    }\n</style>\n<table border=\"1\" class=\"dataframe\">\n  <thead>\n    <tr style=\"text-align: right;\">\n      <th></th>\n      <th>aathi</th>\n      <th>abiola</th>\n      <th>able</th>\n      <th>about</th>\n      <th>account</th>\n      <th>actually</th>\n      <th>address</th>\n      <th>advance</th>\n      <th>after</th>\n      <th>afternoon</th>\n      <th>...</th>\n      <th>wrong</th>\n      <th>xmas</th>\n      <th>yeah</th>\n      <th>year</th>\n      <th>years</th>\n      <th>yesterday</th>\n      <th>yijue</th>\n      <th>your</th>\n      <th>yours</th>\n      <th>yourself</th>\n    </tr>\n  </thead>\n  <tbody>\n    <tr>\n      <th>0</th>\n      <td>0.0</td>\n      <td>0.0</td>\n      <td>0.0</td>\n      <td>0.0</td>\n      <td>0.0</td>\n      <td>0.0</td>\n      <td>0.0</td>\n      <td>0.0</td>\n      <td>0.0</td>\n      <td>0.0</td>\n      <td>...</td>\n      <td>0.0</td>\n      <td>0.0</td>\n      <td>0.0</td>\n      <td>0.0</td>\n      <td>0.0</td>\n      <td>0.0</td>\n      <td>0.0</td>\n      <td>0.0</td>\n      <td>0.0</td>\n      <td>0.0</td>\n    </tr>\n    <tr>\n      <th>1</th>\n      <td>0.0</td>\n      <td>0.0</td>\n      <td>0.0</td>\n      <td>0.0</td>\n      <td>0.0</td>\n      <td>0.0</td>\n      <td>0.0</td>\n      <td>0.0</td>\n      <td>0.0</td>\n      <td>0.0</td>\n      <td>...</td>\n      <td>0.0</td>\n      <td>0.0</td>\n      <td>0.0</td>\n      <td>0.0</td>\n      <td>0.0</td>\n      <td>0.0</td>\n      <td>0.0</td>\n      <td>0.0</td>\n      <td>0.0</td>\n      <td>0.0</td>\n    </tr>\n    <tr>\n      <th>2</th>\n      <td>0.0</td>\n      <td>0.0</td>\n      <td>0.0</td>\n      <td>0.0</td>\n      <td>0.0</td>\n      <td>0.0</td>\n      <td>0.0</td>\n      <td>0.0</td>\n      <td>0.0</td>\n      <td>0.0</td>\n      <td>...</td>\n      <td>0.0</td>\n      <td>0.0</td>\n      <td>0.0</td>\n      <td>0.0</td>\n      <td>0.0</td>\n      <td>0.0</td>\n      <td>0.0</td>\n      <td>0.0</td>\n      <td>0.0</td>\n      <td>0.0</td>\n    </tr>\n    <tr>\n      <th>3</th>\n      <td>0.0</td>\n      <td>0.0</td>\n      <td>0.0</td>\n      <td>0.0</td>\n      <td>0.0</td>\n      <td>0.0</td>\n      <td>0.0</td>\n      <td>0.0</td>\n      <td>0.0</td>\n      <td>0.0</td>\n      <td>...</td>\n      <td>0.0</td>\n      <td>0.0</td>\n      <td>0.0</td>\n      <td>0.0</td>\n      <td>0.0</td>\n      <td>0.0</td>\n      <td>0.0</td>\n      <td>0.0</td>\n      <td>0.0</td>\n      <td>0.0</td>\n    </tr>\n    <tr>\n      <th>4</th>\n      <td>0.0</td>\n      <td>0.0</td>\n      <td>0.0</td>\n      <td>0.0</td>\n      <td>0.0</td>\n      <td>0.0</td>\n      <td>0.0</td>\n      <td>0.0</td>\n      <td>0.0</td>\n      <td>0.0</td>\n      <td>...</td>\n      <td>0.0</td>\n      <td>0.0</td>\n      <td>0.0</td>\n      <td>0.0</td>\n      <td>0.0</td>\n      <td>0.0</td>\n      <td>0.0</td>\n      <td>0.0</td>\n      <td>0.0</td>\n      <td>0.0</td>\n    </tr>\n    <tr>\n      <th>...</th>\n      <td>...</td>\n      <td>...</td>\n      <td>...</td>\n      <td>...</td>\n      <td>...</td>\n      <td>...</td>\n      <td>...</td>\n      <td>...</td>\n      <td>...</td>\n      <td>...</td>\n      <td>...</td>\n      <td>...</td>\n      <td>...</td>\n      <td>...</td>\n      <td>...</td>\n      <td>...</td>\n      <td>...</td>\n      <td>...</td>\n      <td>...</td>\n      <td>...</td>\n      <td>...</td>\n    </tr>\n    <tr>\n      <th>5567</th>\n      <td>0.0</td>\n      <td>0.0</td>\n      <td>0.0</td>\n      <td>0.0</td>\n      <td>0.0</td>\n      <td>0.0</td>\n      <td>0.0</td>\n      <td>0.0</td>\n      <td>0.0</td>\n      <td>0.0</td>\n      <td>...</td>\n      <td>0.0</td>\n      <td>0.0</td>\n      <td>0.0</td>\n      <td>0.0</td>\n      <td>0.0</td>\n      <td>0.0</td>\n      <td>0.0</td>\n      <td>0.0</td>\n      <td>0.0</td>\n      <td>0.0</td>\n    </tr>\n    <tr>\n      <th>5568</th>\n      <td>0.0</td>\n      <td>0.0</td>\n      <td>0.0</td>\n      <td>0.0</td>\n      <td>0.0</td>\n      <td>0.0</td>\n      <td>0.0</td>\n      <td>0.0</td>\n      <td>0.0</td>\n      <td>0.0</td>\n      <td>...</td>\n      <td>0.0</td>\n      <td>0.0</td>\n      <td>0.0</td>\n      <td>0.0</td>\n      <td>0.0</td>\n      <td>0.0</td>\n      <td>0.0</td>\n      <td>0.0</td>\n      <td>0.0</td>\n      <td>0.0</td>\n    </tr>\n    <tr>\n      <th>5569</th>\n      <td>0.0</td>\n      <td>0.0</td>\n      <td>0.0</td>\n      <td>0.0</td>\n      <td>0.0</td>\n      <td>0.0</td>\n      <td>0.0</td>\n      <td>0.0</td>\n      <td>0.0</td>\n      <td>0.0</td>\n      <td>...</td>\n      <td>0.0</td>\n      <td>0.0</td>\n      <td>0.0</td>\n      <td>0.0</td>\n      <td>0.0</td>\n      <td>0.0</td>\n      <td>0.0</td>\n      <td>0.0</td>\n      <td>0.0</td>\n      <td>0.0</td>\n    </tr>\n    <tr>\n      <th>5570</th>\n      <td>0.0</td>\n      <td>0.0</td>\n      <td>0.0</td>\n      <td>0.0</td>\n      <td>0.0</td>\n      <td>0.0</td>\n      <td>0.0</td>\n      <td>0.0</td>\n      <td>0.0</td>\n      <td>0.0</td>\n      <td>...</td>\n      <td>0.0</td>\n      <td>0.0</td>\n      <td>0.0</td>\n      <td>0.0</td>\n      <td>0.0</td>\n      <td>0.0</td>\n      <td>0.0</td>\n      <td>0.0</td>\n      <td>0.0</td>\n      <td>0.0</td>\n    </tr>\n    <tr>\n      <th>5571</th>\n      <td>0.0</td>\n      <td>0.0</td>\n      <td>0.0</td>\n      <td>0.0</td>\n      <td>0.0</td>\n      <td>0.0</td>\n      <td>0.0</td>\n      <td>0.0</td>\n      <td>0.0</td>\n      <td>0.0</td>\n      <td>...</td>\n      <td>0.0</td>\n      <td>0.0</td>\n      <td>0.0</td>\n      <td>0.0</td>\n      <td>0.0</td>\n      <td>0.0</td>\n      <td>0.0</td>\n      <td>0.0</td>\n      <td>0.0</td>\n      <td>0.0</td>\n    </tr>\n  </tbody>\n</table>\n<p>5572 rows × 831 columns</p>\n</div>"
     },
     "execution_count": 13,
     "metadata": {},
     "output_type": "execute_result"
    }
   ],
   "source": [
    "sel = VarianceThreshold(threshold=0.0003)\n",
    "sel.fit_transform(feature)\n",
    "feature = feature[feature.columns[sel.get_support(indices=True)]]\n",
    "feature"
   ],
   "metadata": {
    "collapsed": false,
    "ExecuteTime": {
     "start_time": "2023-05-25T14:51:54.642935Z",
     "end_time": "2023-05-25T14:51:54.860892Z"
    }
   }
  },
  {
   "cell_type": "code",
   "execution_count": 14,
   "outputs": [
    {
     "data": {
      "text/plain": "(5572, 831)"
     },
     "execution_count": 14,
     "metadata": {},
     "output_type": "execute_result"
    }
   ],
   "source": [
    "feature.shape"
   ],
   "metadata": {
    "collapsed": false,
    "ExecuteTime": {
     "start_time": "2023-05-25T14:51:54.861928Z",
     "end_time": "2023-05-25T14:51:54.910891Z"
    }
   }
  },
  {
   "cell_type": "code",
   "execution_count": 15,
   "outputs": [],
   "source": [
    "target = df[\"class\"]"
   ],
   "metadata": {
    "collapsed": false,
    "ExecuteTime": {
     "start_time": "2023-05-25T14:51:54.876993Z",
     "end_time": "2023-05-25T14:51:54.935890Z"
    }
   }
  },
  {
   "cell_type": "code",
   "execution_count": 16,
   "outputs": [],
   "source": [
    "X_train, X_test, y_train, y_test = train_test_split(feature, target, test_size=0.33, random_state=42)"
   ],
   "metadata": {
    "collapsed": false,
    "ExecuteTime": {
     "start_time": "2023-05-25T14:51:54.892907Z",
     "end_time": "2023-05-25T14:51:54.996893Z"
    }
   }
  },
  {
   "cell_type": "code",
   "execution_count": 17,
   "outputs": [
    {
     "data": {
      "text/plain": "      aathi  abiola  able  about  account  actually  address  advance  after  \\\n3235    0.0     0.0   0.0    0.0      0.0       0.0      0.0      0.0    0.0   \n945     0.0     0.0   0.0    0.0      0.0       0.0      0.0      0.0    0.0   \n5319    0.0     0.0   0.0    0.0      0.0       0.0      0.0      0.0    0.0   \n5528    0.0     0.0   0.0    0.0      0.0       0.0      0.0      0.0    0.0   \n247     0.0     0.0   0.0    0.0      0.0       0.0      0.0      0.0    0.0   \n...     ...     ...   ...    ...      ...       ...      ...      ...    ...   \n3772    0.0     0.0   0.0    0.0      0.0       0.0      0.0      0.0    0.0   \n5191    0.0     0.0   0.0    0.0      0.0       0.0      0.0      0.0    0.0   \n5226    0.0     0.0   0.0    0.0      0.0       0.0      0.0      0.0    0.0   \n5390    0.0     0.0   0.0    0.0      0.0       0.0      0.0      0.0    0.0   \n860     0.0     0.0   0.0    0.0      0.0       0.0      0.0      0.0    0.0   \n\n      afternoon  ...  wrong  xmas  yeah  year  years  yesterday  yijue  your  \\\n3235        0.0  ...    0.0   0.0   0.0   0.0    0.0        0.0    0.0   0.0   \n945         0.0  ...    0.0   0.0   0.0   0.0    0.0        0.0    0.0   0.0   \n5319        0.0  ...    0.0   0.0   0.0   0.0    0.0        0.0    0.0   0.0   \n5528        0.0  ...    0.0   0.0   0.0   0.0    0.0        0.0    0.0   0.0   \n247         0.0  ...    0.0   0.0   0.0   0.0    0.0        0.0    0.0   0.0   \n...         ...  ...    ...   ...   ...   ...    ...        ...    ...   ...   \n3772        0.0  ...    0.0   0.0   0.0   0.0    0.0        0.0    0.0   0.0   \n5191        0.0  ...    0.0   0.0   0.0   0.0    0.0        0.0    0.0   0.0   \n5226        0.0  ...    0.0   0.0   0.0   0.0    0.0        0.0    0.0   0.0   \n5390        0.0  ...    0.0   0.0   0.0   0.0    0.0        0.0    0.0   0.0   \n860         0.0  ...    0.0   0.0   0.0   0.0    0.0        0.0    0.0   0.0   \n\n      yours  yourself  \n3235    0.0       0.0  \n945     0.0       0.0  \n5319    0.0       0.0  \n5528    0.0       0.0  \n247     0.0       0.0  \n...     ...       ...  \n3772    0.0       0.0  \n5191    0.0       0.0  \n5226    0.0       0.0  \n5390    0.0       0.0  \n860     0.0       0.0  \n\n[3733 rows x 831 columns]",
      "text/html": "<div>\n<style scoped>\n    .dataframe tbody tr th:only-of-type {\n        vertical-align: middle;\n    }\n\n    .dataframe tbody tr th {\n        vertical-align: top;\n    }\n\n    .dataframe thead th {\n        text-align: right;\n    }\n</style>\n<table border=\"1\" class=\"dataframe\">\n  <thead>\n    <tr style=\"text-align: right;\">\n      <th></th>\n      <th>aathi</th>\n      <th>abiola</th>\n      <th>able</th>\n      <th>about</th>\n      <th>account</th>\n      <th>actually</th>\n      <th>address</th>\n      <th>advance</th>\n      <th>after</th>\n      <th>afternoon</th>\n      <th>...</th>\n      <th>wrong</th>\n      <th>xmas</th>\n      <th>yeah</th>\n      <th>year</th>\n      <th>years</th>\n      <th>yesterday</th>\n      <th>yijue</th>\n      <th>your</th>\n      <th>yours</th>\n      <th>yourself</th>\n    </tr>\n  </thead>\n  <tbody>\n    <tr>\n      <th>3235</th>\n      <td>0.0</td>\n      <td>0.0</td>\n      <td>0.0</td>\n      <td>0.0</td>\n      <td>0.0</td>\n      <td>0.0</td>\n      <td>0.0</td>\n      <td>0.0</td>\n      <td>0.0</td>\n      <td>0.0</td>\n      <td>...</td>\n      <td>0.0</td>\n      <td>0.0</td>\n      <td>0.0</td>\n      <td>0.0</td>\n      <td>0.0</td>\n      <td>0.0</td>\n      <td>0.0</td>\n      <td>0.0</td>\n      <td>0.0</td>\n      <td>0.0</td>\n    </tr>\n    <tr>\n      <th>945</th>\n      <td>0.0</td>\n      <td>0.0</td>\n      <td>0.0</td>\n      <td>0.0</td>\n      <td>0.0</td>\n      <td>0.0</td>\n      <td>0.0</td>\n      <td>0.0</td>\n      <td>0.0</td>\n      <td>0.0</td>\n      <td>...</td>\n      <td>0.0</td>\n      <td>0.0</td>\n      <td>0.0</td>\n      <td>0.0</td>\n      <td>0.0</td>\n      <td>0.0</td>\n      <td>0.0</td>\n      <td>0.0</td>\n      <td>0.0</td>\n      <td>0.0</td>\n    </tr>\n    <tr>\n      <th>5319</th>\n      <td>0.0</td>\n      <td>0.0</td>\n      <td>0.0</td>\n      <td>0.0</td>\n      <td>0.0</td>\n      <td>0.0</td>\n      <td>0.0</td>\n      <td>0.0</td>\n      <td>0.0</td>\n      <td>0.0</td>\n      <td>...</td>\n      <td>0.0</td>\n      <td>0.0</td>\n      <td>0.0</td>\n      <td>0.0</td>\n      <td>0.0</td>\n      <td>0.0</td>\n      <td>0.0</td>\n      <td>0.0</td>\n      <td>0.0</td>\n      <td>0.0</td>\n    </tr>\n    <tr>\n      <th>5528</th>\n      <td>0.0</td>\n      <td>0.0</td>\n      <td>0.0</td>\n      <td>0.0</td>\n      <td>0.0</td>\n      <td>0.0</td>\n      <td>0.0</td>\n      <td>0.0</td>\n      <td>0.0</td>\n      <td>0.0</td>\n      <td>...</td>\n      <td>0.0</td>\n      <td>0.0</td>\n      <td>0.0</td>\n      <td>0.0</td>\n      <td>0.0</td>\n      <td>0.0</td>\n      <td>0.0</td>\n      <td>0.0</td>\n      <td>0.0</td>\n      <td>0.0</td>\n    </tr>\n    <tr>\n      <th>247</th>\n      <td>0.0</td>\n      <td>0.0</td>\n      <td>0.0</td>\n      <td>0.0</td>\n      <td>0.0</td>\n      <td>0.0</td>\n      <td>0.0</td>\n      <td>0.0</td>\n      <td>0.0</td>\n      <td>0.0</td>\n      <td>...</td>\n      <td>0.0</td>\n      <td>0.0</td>\n      <td>0.0</td>\n      <td>0.0</td>\n      <td>0.0</td>\n      <td>0.0</td>\n      <td>0.0</td>\n      <td>0.0</td>\n      <td>0.0</td>\n      <td>0.0</td>\n    </tr>\n    <tr>\n      <th>...</th>\n      <td>...</td>\n      <td>...</td>\n      <td>...</td>\n      <td>...</td>\n      <td>...</td>\n      <td>...</td>\n      <td>...</td>\n      <td>...</td>\n      <td>...</td>\n      <td>...</td>\n      <td>...</td>\n      <td>...</td>\n      <td>...</td>\n      <td>...</td>\n      <td>...</td>\n      <td>...</td>\n      <td>...</td>\n      <td>...</td>\n      <td>...</td>\n      <td>...</td>\n      <td>...</td>\n    </tr>\n    <tr>\n      <th>3772</th>\n      <td>0.0</td>\n      <td>0.0</td>\n      <td>0.0</td>\n      <td>0.0</td>\n      <td>0.0</td>\n      <td>0.0</td>\n      <td>0.0</td>\n      <td>0.0</td>\n      <td>0.0</td>\n      <td>0.0</td>\n      <td>...</td>\n      <td>0.0</td>\n      <td>0.0</td>\n      <td>0.0</td>\n      <td>0.0</td>\n      <td>0.0</td>\n      <td>0.0</td>\n      <td>0.0</td>\n      <td>0.0</td>\n      <td>0.0</td>\n      <td>0.0</td>\n    </tr>\n    <tr>\n      <th>5191</th>\n      <td>0.0</td>\n      <td>0.0</td>\n      <td>0.0</td>\n      <td>0.0</td>\n      <td>0.0</td>\n      <td>0.0</td>\n      <td>0.0</td>\n      <td>0.0</td>\n      <td>0.0</td>\n      <td>0.0</td>\n      <td>...</td>\n      <td>0.0</td>\n      <td>0.0</td>\n      <td>0.0</td>\n      <td>0.0</td>\n      <td>0.0</td>\n      <td>0.0</td>\n      <td>0.0</td>\n      <td>0.0</td>\n      <td>0.0</td>\n      <td>0.0</td>\n    </tr>\n    <tr>\n      <th>5226</th>\n      <td>0.0</td>\n      <td>0.0</td>\n      <td>0.0</td>\n      <td>0.0</td>\n      <td>0.0</td>\n      <td>0.0</td>\n      <td>0.0</td>\n      <td>0.0</td>\n      <td>0.0</td>\n      <td>0.0</td>\n      <td>...</td>\n      <td>0.0</td>\n      <td>0.0</td>\n      <td>0.0</td>\n      <td>0.0</td>\n      <td>0.0</td>\n      <td>0.0</td>\n      <td>0.0</td>\n      <td>0.0</td>\n      <td>0.0</td>\n      <td>0.0</td>\n    </tr>\n    <tr>\n      <th>5390</th>\n      <td>0.0</td>\n      <td>0.0</td>\n      <td>0.0</td>\n      <td>0.0</td>\n      <td>0.0</td>\n      <td>0.0</td>\n      <td>0.0</td>\n      <td>0.0</td>\n      <td>0.0</td>\n      <td>0.0</td>\n      <td>...</td>\n      <td>0.0</td>\n      <td>0.0</td>\n      <td>0.0</td>\n      <td>0.0</td>\n      <td>0.0</td>\n      <td>0.0</td>\n      <td>0.0</td>\n      <td>0.0</td>\n      <td>0.0</td>\n      <td>0.0</td>\n    </tr>\n    <tr>\n      <th>860</th>\n      <td>0.0</td>\n      <td>0.0</td>\n      <td>0.0</td>\n      <td>0.0</td>\n      <td>0.0</td>\n      <td>0.0</td>\n      <td>0.0</td>\n      <td>0.0</td>\n      <td>0.0</td>\n      <td>0.0</td>\n      <td>...</td>\n      <td>0.0</td>\n      <td>0.0</td>\n      <td>0.0</td>\n      <td>0.0</td>\n      <td>0.0</td>\n      <td>0.0</td>\n      <td>0.0</td>\n      <td>0.0</td>\n      <td>0.0</td>\n      <td>0.0</td>\n    </tr>\n  </tbody>\n</table>\n<p>3733 rows × 831 columns</p>\n</div>"
     },
     "execution_count": 17,
     "metadata": {},
     "output_type": "execute_result"
    }
   ],
   "source": [
    "X_train"
   ],
   "metadata": {
    "collapsed": false,
    "ExecuteTime": {
     "start_time": "2023-05-25T14:51:54.924890Z",
     "end_time": "2023-05-25T14:51:55.022996Z"
    }
   }
  },
  {
   "cell_type": "code",
   "execution_count": 18,
   "outputs": [],
   "source": [
    "def pearson(feature, target):\n",
    "    tmp = feature.copy()\n",
    "    tmp[\"class\"] = target\n",
    "    tmp[\"target\"] = pd.factorize(tmp[\"class\"])[0]\n",
    "    corr = tmp.corr()\n",
    "    return list(corr[\"target\"].drop(\"target\").apply(abs).sort_values(ascending=False)[:30].index)"
   ],
   "metadata": {
    "collapsed": false,
    "ExecuteTime": {
     "start_time": "2023-05-25T14:51:54.953890Z",
     "end_time": "2023-05-25T14:51:55.022996Z"
    }
   }
  },
  {
   "cell_type": "code",
   "execution_count": 19,
   "outputs": [
    {
     "data": {
      "text/plain": "['claim',\n 'mobile',\n 'prize',\n 'free',\n 'call',\n 'stop',\n 'guaranteed',\n 'urgent',\n 'service',\n 'cash',\n 'nokia',\n 'reply',\n 'pobox',\n 'contact',\n 'awarded',\n 'tone',\n 'text',\n 'code',\n 'draw',\n 'rate',\n 'customer',\n 'landline',\n 'from',\n 'valid',\n 'ringtone',\n 'collection',\n 'latest',\n 'apply',\n 'video',\n 'line']"
     },
     "execution_count": 19,
     "metadata": {},
     "output_type": "execute_result"
    }
   ],
   "source": [
    "feature_columns_pearson = pearson(feature, target)\n",
    "feature_columns_pearson"
   ],
   "metadata": {
    "collapsed": false,
    "ExecuteTime": {
     "start_time": "2023-05-25T14:51:54.968929Z",
     "end_time": "2023-05-25T14:52:00.113990Z"
    }
   }
  },
  {
   "cell_type": "code",
   "execution_count": 20,
   "outputs": [],
   "source": [
    "feature_pearson = feature[feature_columns_pearson]"
   ],
   "metadata": {
    "collapsed": false,
    "ExecuteTime": {
     "start_time": "2023-05-25T14:52:00.115006Z",
     "end_time": "2023-05-25T14:52:00.159020Z"
    }
   }
  },
  {
   "cell_type": "code",
   "execution_count": 57,
   "outputs": [],
   "source": [
    "def SVM_RFE(feature, target, k=object_count):\n",
    "    params = feature.columns\n",
    "    while len(params) != k:\n",
    "        print(len(params))\n",
    "        clf = SVC(kernel=\"linear\")\n",
    "        clf.fit(feature[params], target)\n",
    "        pairs = sorted(list(zip(params, *np.absolute(clf.coef_))), key=lambda x: x[1], reverse=True)[:max(k, max(int(len(params) * 0.9), 5))]\n",
    "        params = [e[0] for e in pairs]\n",
    "    return list(params)"
   ],
   "metadata": {
    "collapsed": false,
    "ExecuteTime": {
     "start_time": "2023-05-25T15:51:28.961941Z",
     "end_time": "2023-05-25T15:51:28.980938Z"
    }
   }
  },
  {
   "cell_type": "code",
   "execution_count": 58,
   "outputs": [
    {
     "name": "stdout",
     "output_type": "stream",
     "text": [
      "831\n",
      "747\n",
      "672\n",
      "604\n",
      "543\n",
      "488\n",
      "439\n",
      "395\n",
      "355\n",
      "319\n",
      "287\n",
      "258\n",
      "232\n",
      "208\n",
      "187\n",
      "168\n",
      "151\n",
      "135\n",
      "121\n",
      "108\n",
      "97\n",
      "87\n",
      "78\n",
      "70\n",
      "63\n",
      "56\n",
      "50\n",
      "45\n",
      "40\n",
      "36\n",
      "32\n"
     ]
    },
    {
     "data": {
      "text/plain": "['mobile',\n 'claim',\n 'awarded',\n 'service',\n 'nokia',\n 'video',\n 'collection',\n 'prize',\n 'optout',\n 'games',\n 'http',\n 'stop',\n 'private',\n 'ringtone',\n 'weekly',\n 'pobox',\n 'apply',\n 'delivery',\n 'tone',\n 'code',\n 'reveal',\n 'cash',\n 'services',\n 'tones',\n 'voucher',\n 'custcare',\n 'rate',\n 'award',\n 'chat',\n 'quiz']"
     },
     "execution_count": 58,
     "metadata": {},
     "output_type": "execute_result"
    }
   ],
   "source": [
    "feature_columns_svm = SVM_RFE(feature, target)\n",
    "feature_columns_svm"
   ],
   "metadata": {
    "collapsed": false,
    "ExecuteTime": {
     "start_time": "2023-05-25T15:51:29.153940Z",
     "end_time": "2023-05-25T15:51:44.709753Z"
    }
   }
  },
  {
   "cell_type": "code",
   "execution_count": 59,
   "outputs": [],
   "source": [
    "feature_svm = feature[feature_columns_svm]"
   ],
   "metadata": {
    "collapsed": false,
    "ExecuteTime": {
     "start_time": "2023-05-25T15:52:58.383798Z",
     "end_time": "2023-05-25T15:52:58.399813Z"
    }
   }
  },
  {
   "cell_type": "code",
   "execution_count": 24,
   "outputs": [],
   "source": [
    "from tqdm import tqdm\n",
    "\n",
    "def sfs(feature_train, feature_test, target_train, target_test, k=object_count):\n",
    "    params = []\n",
    "    q = set(feature_train.columns)\n",
    "    for i in range(k):\n",
    "        score = float(\"inf\")\n",
    "        add = None\n",
    "        for j in tqdm(q):\n",
    "            clf = DecisionTreeClassifier()\n",
    "            current_features = feature_train[params + [j]]\n",
    "            clf.fit(current_features, target_train)\n",
    "            current_score = accuracy_score(target_test, clf.predict(feature_test[params + [j]]))\n",
    "            if current_score < score:\n",
    "                score = current_score\n",
    "                add = j\n",
    "        params.append(add)\n",
    "        q.remove(add)\n",
    "\n",
    "    return params"
   ],
   "metadata": {
    "collapsed": false,
    "ExecuteTime": {
     "start_time": "2023-05-25T14:52:16.892118Z",
     "end_time": "2023-05-25T14:52:16.936117Z"
    }
   }
  },
  {
   "cell_type": "code",
   "execution_count": 25,
   "outputs": [
    {
     "name": "stderr",
     "output_type": "stream",
     "text": [
      "100%|██████████| 831/831 [00:03<00:00, 233.16it/s]\n",
      "100%|██████████| 830/830 [00:03<00:00, 227.46it/s]\n",
      "100%|██████████| 829/829 [00:03<00:00, 231.56it/s]\n",
      "100%|██████████| 828/828 [00:03<00:00, 214.84it/s]\n",
      "100%|██████████| 827/827 [00:04<00:00, 200.44it/s]\n",
      "100%|██████████| 826/826 [00:03<00:00, 206.66it/s]\n",
      "100%|██████████| 825/825 [00:04<00:00, 196.76it/s]\n",
      "100%|██████████| 824/824 [00:04<00:00, 181.57it/s]\n",
      "100%|██████████| 823/823 [00:05<00:00, 160.30it/s]\n",
      "100%|██████████| 822/822 [00:05<00:00, 152.87it/s]\n",
      "100%|██████████| 821/821 [00:05<00:00, 136.88it/s]\n",
      "100%|██████████| 820/820 [00:06<00:00, 125.42it/s]\n",
      "100%|██████████| 819/819 [00:07<00:00, 116.90it/s]\n",
      "100%|██████████| 818/818 [00:07<00:00, 113.59it/s]\n",
      "100%|██████████| 817/817 [00:07<00:00, 109.30it/s]\n",
      "100%|██████████| 816/816 [00:08<00:00, 95.82it/s] \n",
      "100%|██████████| 815/815 [00:08<00:00, 95.04it/s] \n",
      "100%|██████████| 814/814 [00:09<00:00, 85.50it/s]\n",
      "100%|██████████| 813/813 [00:10<00:00, 79.45it/s]\n",
      "100%|██████████| 812/812 [00:10<00:00, 78.58it/s]\n",
      "100%|██████████| 811/811 [00:11<00:00, 73.49it/s]\n",
      "100%|██████████| 810/810 [00:11<00:00, 68.59it/s]\n",
      "100%|██████████| 809/809 [00:12<00:00, 65.91it/s]\n",
      "100%|██████████| 808/808 [00:12<00:00, 63.28it/s]\n",
      "100%|██████████| 807/807 [00:12<00:00, 62.53it/s]\n",
      "100%|██████████| 806/806 [00:13<00:00, 58.58it/s]\n",
      "100%|██████████| 805/805 [00:14<00:00, 53.80it/s]\n",
      "100%|██████████| 804/804 [00:14<00:00, 54.96it/s]\n",
      "100%|██████████| 803/803 [00:14<00:00, 54.54it/s]\n",
      "100%|██████████| 802/802 [00:16<00:00, 48.28it/s]\n"
     ]
    }
   ],
   "source": [
    "feature_columns_sfs = sfs(X_train, X_test, y_train, y_test)"
   ],
   "metadata": {
    "collapsed": false,
    "ExecuteTime": {
     "start_time": "2023-05-25T14:52:16.906118Z",
     "end_time": "2023-05-25T14:56:35.857732Z"
    }
   }
  },
  {
   "cell_type": "code",
   "execution_count": 26,
   "outputs": [
    {
     "data": {
      "text/plain": "['want',\n 'guys',\n 'calls',\n 'station',\n 'trip',\n 'girls',\n 'time',\n 'will',\n 'last',\n 'today',\n 'well',\n 'life',\n 'true',\n 'shopping',\n 'money',\n 'round',\n 'know',\n 'dont',\n 'same',\n 'crazy',\n 'getting',\n 'maybe',\n 'into',\n 'film',\n 'wanna',\n 'were',\n 'happened',\n 'half',\n 'babe',\n 'super']"
     },
     "execution_count": 26,
     "metadata": {},
     "output_type": "execute_result"
    }
   ],
   "source": [
    "feature_columns_sfs"
   ],
   "metadata": {
    "collapsed": false,
    "ExecuteTime": {
     "start_time": "2023-05-25T14:56:35.859736Z",
     "end_time": "2023-05-25T14:56:35.872736Z"
    }
   }
  },
  {
   "cell_type": "code",
   "execution_count": 27,
   "outputs": [],
   "source": [
    "X_train_sfs = X_train[feature_columns_sfs]\n",
    "X_test_sfs = X_test[feature_columns_sfs]"
   ],
   "metadata": {
    "collapsed": false,
    "ExecuteTime": {
     "start_time": "2023-05-25T14:56:35.875740Z",
     "end_time": "2023-05-25T14:56:35.917736Z"
    }
   }
  },
  {
   "cell_type": "code",
   "execution_count": 28,
   "outputs": [
    {
     "data": {
      "text/plain": "array([[-1.25246836e-01, -2.11906831e-01, -3.75232377e-01,\n        -6.25888251e-01,  7.49276048e-01, -5.08039213e-01,\n        -1.38056987e-01, -1.28996898e-01, -5.69383315e-01,\n        -4.17050138e-01, -4.71012650e-01, -7.74406977e-01,\n        -1.66697512e-01, -1.95947345e-01, -2.97285643e-01,\n         3.60826269e-01, -8.97981007e-01, -5.55849557e-01,\n        -1.52255330e-01, -6.40378315e-01, -9.70612018e-01,\n        -4.35188898e-01, -3.08597706e-01,  1.02196136e+00,\n        -2.34121416e-01, -2.62066653e-01, -9.02193370e-01,\n         3.65311903e-01, -3.96518355e-01,  1.88851823e+00,\n        -2.37225822e-01,  9.36548748e-01, -2.87837318e-01,\n        -1.54740230e-01,  4.56023512e-01, -2.45592897e-01,\n        -8.04479284e-02, -2.44133282e-01,  1.39401420e+00,\n         1.78505224e+00, -1.09353380e-01,  8.81408755e-01,\n        -1.14633963e-01,  1.75216297e+00,  2.28713678e+00,\n        -1.56446624e-02, -4.11488953e-01,  5.33338579e-02,\n        -1.76109444e-01,  2.74016731e-01,  3.64361288e-01,\n        -1.32615588e-01, -1.53802765e-01, -1.55739008e-01,\n        -2.59433929e-01, -3.97502585e-01,  1.09250115e+00,\n        -4.08504632e-01, -4.29825946e-02,  1.20378003e-01,\n        -7.37287526e-02, -3.26400767e-01,  2.14652221e-01,\n         5.68258053e-01, -3.21029940e-01, -1.07569366e-01,\n         2.01431224e-01,  6.37562141e-02, -1.63414674e-01,\n         1.24070364e+00,  6.23780097e-01, -2.07364560e-01,\n         6.73446687e-02, -1.31263175e-01, -3.95798145e-01,\n         5.50766614e-03, -2.17398764e-01,  3.16778362e-01,\n        -4.64770929e-01, -3.94816724e-02, -4.61240918e-01,\n        -1.95448175e-01, -8.91612218e-02, -1.66318946e-01,\n        -1.24753023e-01, -2.51693851e-01, -9.75206462e-02,\n        -9.97719850e-02,  3.26734312e+00, -1.69862654e-01,\n         3.03553460e-01,  4.70302748e-02,  1.27778907e+00,\n        -2.35098907e-01,  1.70528742e+00, -1.53795263e-01,\n         5.16000143e-01, -5.94621906e-01, -3.65826553e-02,\n        -4.15497052e-01, -4.23245546e-01, -2.00925195e-01,\n         3.56150033e+00, -1.58528468e-01, -3.15654447e-01,\n         1.98824143e+00, -4.66139910e-01,  7.17772127e-01,\n         3.24838170e+00, -1.82221870e-01, -1.35270116e-01,\n        -3.06256630e-01, -3.09134129e-01, -5.35693309e-01,\n         1.44806243e+00,  1.42257347e-02, -1.48976043e-01,\n         3.95705218e+00, -5.99905864e-01, -4.05847486e-02,\n         1.71428475e+00,  1.63411737e+00, -2.00851096e-01,\n         1.62909462e+00,  1.48350561e+00, -3.58379140e-01,\n         4.62733663e-01, -1.61082984e+00,  5.09214794e-01,\n        -2.37342668e-01, -6.50953706e-01, -1.19025931e-01,\n         8.00639489e-01,  1.28462584e-01,  3.88512483e-02,\n         1.32327676e-01,  6.14622974e-01,  4.43947332e-01,\n        -2.03440810e-01,  8.24493311e-01,  7.96972452e-01,\n         2.20995058e+00,  1.42527777e+00, -2.19738146e-01,\n        -7.09688912e-01,  6.56251011e-01,  2.43354486e+00,\n        -4.82913098e-02,  8.73331996e-03, -3.64570143e-01,\n        -1.52754719e-01,  3.66810644e-01, -2.82177853e-01,\n         8.97328980e-01,  1.52072732e+00,  2.04795818e+00,\n        -1.92787267e-01, -4.05501046e-01, -1.91090451e-01,\n         7.99621756e-01,  1.74902545e+00,  7.58105134e-01,\n        -2.45722337e-01, -1.72423763e-01, -4.13860622e-01,\n        -1.46322686e-01, -2.67350070e-01, -7.21757702e-01,\n        -1.61822289e-01, -1.94567362e-01,  1.66171718e+00,\n        -1.14175831e-01, -1.57343871e-01, -7.92541362e-01,\n        -4.94590816e-01, -2.73775505e-01, -2.87468461e-01,\n        -5.20231479e-01, -1.64720937e-01,  3.08782596e-01,\n        -1.90429387e-01, -2.20440053e-01, -3.23714933e-01,\n        -3.59330598e-01, -4.61692868e-01, -2.57840451e-01,\n        -9.60939848e-01, -3.52380046e-01, -2.85930955e-01,\n        -4.55627492e-02,  9.02038970e-01, -4.03323870e-01,\n         2.71494610e-01,  2.28600751e+00, -2.80549633e-01,\n        -2.97973393e-01, -4.54600564e-01,  3.61617951e-02,\n        -2.58783110e-01, -1.49338498e-01, -1.99469044e-01,\n        -4.33304305e-01, -5.29109604e-01,  5.51919392e-01,\n        -2.16443559e-01, -4.12430475e-01,  5.07674121e-01,\n        -7.93601183e-02, -1.75506112e-01,  5.91089737e-01,\n        -3.96599692e-01,  3.95811100e-03,  6.59323656e-01,\n         8.85028155e-01, -3.65240559e-02,  1.00339406e+00,\n         1.88497362e+00, -8.63001764e-02, -9.49071801e-02,\n        -3.05488739e-01,  5.46074474e-02,  1.48504721e+00,\n        -3.50346024e-01, -2.70473269e-01, -2.44768519e-01,\n        -1.72802090e-01, -1.18350449e-01,  1.18141899e+00,\n        -4.35728000e-01, -2.81476125e-01, -4.21853129e-01,\n         1.04356787e+00, -6.77733722e-02, -2.89260297e-01,\n        -1.16218535e-01, -6.05960177e-01,  7.90708282e-03,\n        -1.10417376e-01, -1.35694869e-01,  2.73463306e-01,\n         1.08966718e+00, -3.19964009e-01,  1.84025772e+00,\n        -6.78288624e-01, -6.79628767e-01, -3.49088884e-01,\n        -2.85255187e-02,  2.37501823e-01, -4.75477420e-01,\n         2.60811167e-01, -5.17434218e-01,  2.91978896e-02,\n         3.36957480e+00,  1.03307704e+00, -1.09984394e-01,\n        -2.28264347e-01,  7.96117255e-02, -5.57809080e-01,\n        -3.58660181e-01,  2.80740589e-01,  2.46660102e+00,\n        -4.10298176e-01, -3.28425947e-01, -3.84077312e-01,\n        -2.07805376e-01,  5.86705549e-01,  2.27209721e+00,\n        -1.75892884e-01, -2.06139432e-01, -1.43672028e-01,\n        -1.14811400e-01,  1.78196398e+00,  3.52435432e-01,\n         7.76181040e-01, -2.11167471e-01, -1.98731441e-01,\n        -2.54736146e-01, -3.52811718e-01, -1.19369445e+00,\n        -3.56504758e-01, -8.21818535e-01, -1.07779087e+00,\n        -3.68245424e-01, -1.34817694e-01, -2.18226885e-01,\n        -3.29209712e-01, -6.74705439e-01,  1.60174694e+00,\n         3.77652613e-01,  2.57065460e-01, -6.48210880e-01,\n        -3.46847070e-01,  3.84318982e-01, -4.25748000e-01,\n        -3.55683498e-01, -2.68444569e-01, -2.40500879e-01,\n        -9.61963294e-01,  1.04285753e-01,  8.48632820e-01,\n        -2.40142794e-01, -5.50826085e-01, -5.79794325e-01,\n        -4.19041026e-01, -3.37487770e-02,  1.97685138e-02,\n        -1.19454454e-01, -1.99069739e-02,  1.59691937e+00,\n        -6.66579495e-01, -2.91710213e-01, -2.88367078e-01,\n        -1.97012114e-01,  1.38665194e+00, -1.18556679e-01,\n        -1.63400723e+00, -2.12691796e-01, -1.37048999e-01,\n        -7.88175742e-01, -1.84286767e-01, -1.31085866e-01,\n        -4.33958739e-01, -2.93993388e-02, -5.88675897e-01,\n        -2.46692686e-01, -9.63985289e-02,  3.09484674e+00,\n         7.86444061e-02, -9.17713679e-02, -2.68694903e-01,\n        -2.00401277e-01, -1.47584962e-01,  1.12708570e+00,\n         1.03924093e+00,  1.13457293e+00, -9.50713674e-02,\n         1.79839056e+00, -1.59756205e-01,  1.80407707e-01,\n         7.94769883e-02, -1.65220751e-01, -1.46629709e-01,\n        -1.94747157e-01,  1.51799961e+00,  2.99974788e-01,\n        -1.61037085e-01,  3.96229606e-01, -1.52243504e-01,\n        -1.94081946e-01, -2.00680878e-01, -1.93868520e-01,\n        -1.56051341e-01, -2.28369532e-01, -3.55242517e-01,\n        -1.58483699e-01, -4.04541367e-01,  9.09622890e-02,\n         2.84973702e-01,  1.56973277e+00, -3.64360334e-01,\n        -1.07070858e-01, -5.17932382e-01, -1.86936565e+00,\n         2.15337369e+00, -9.30217841e-02, -1.26757710e-01,\n        -2.57417819e-01, -3.38781247e-01, -3.25714116e-01,\n        -1.27987014e-01, -1.50208638e-01, -2.04538217e-01,\n        -9.47920218e-02, -2.34457800e-01, -1.40019148e-01,\n        -1.25202207e-01, -1.62615164e-01, -5.77845977e-01,\n        -2.03006537e-01, -5.93647134e-01, -6.35094130e-01,\n        -3.68132407e-01,  1.20176082e+00, -3.31103377e-01,\n         2.94102108e-01,  3.81822467e-02,  1.70193353e+00,\n        -2.25436484e-01, -4.30131335e-02,  3.03493818e-01,\n        -6.48322896e-01, -1.43537276e-01, -2.12700490e-02,\n         4.57949203e-01, -2.37084558e-01,  3.75342361e-01,\n         1.01386843e-01, -7.09372697e-01, -2.44494494e-01,\n        -2.20204199e-01,  9.95997096e-01,  9.91611976e-01,\n        -6.84305458e-01, -2.04383658e-01, -7.71308139e-01,\n        -5.21551648e-02, -2.27619491e-01, -3.61795753e-01,\n        -1.17514094e-01, -3.20064583e-01, -1.33994343e-01,\n        -8.53618605e-02,  3.49257095e-01, -2.91676126e-01,\n        -2.35279269e-01, -3.67400360e-01, -2.90057264e-01,\n        -4.21947161e-01, -2.63279006e-01, -4.14587705e-02,\n        -7.63398484e-01,  1.09491740e-02, -2.48700117e-01,\n         1.50093598e+00,  6.37980090e-01,  1.29149674e-01,\n        -6.01203791e-01, -2.07072404e-01, -4.43970881e-01,\n         1.53262527e+00,  3.97693484e-01, -3.78034502e-01,\n         1.29326139e-02, -2.38061672e-01, -3.12502587e-01,\n        -1.07703992e-01,  4.16883511e+00, -3.69188144e-01,\n        -1.77708153e-01, -4.08269757e-01, -1.64784788e-01,\n         1.90849372e-02,  1.30767453e-01,  1.09612767e+00,\n        -9.76059283e-01,  8.88246129e-02, -2.61772727e-01,\n        -2.41044582e-01, -1.72114650e-01, -2.76416787e-01,\n         5.37083655e-01, -1.17374813e+00,  1.82697527e+00,\n         8.60816885e-02,  1.32577097e+00,  1.72792737e+00,\n        -1.70555044e-01, -7.80104292e-01, -2.46617595e-01,\n         1.59493962e+00, -3.06674559e-01, -4.79641373e-01,\n         9.81251064e-01,  1.03140617e+00, -7.32426683e-01,\n        -1.85418243e-01, -4.18620878e-01,  1.76397886e-01,\n        -2.12000431e-01,  2.78477267e+00, -1.96542379e-01,\n        -1.56387648e-01, -3.15737734e-01, -1.02973390e-01,\n        -1.65160094e-01, -3.34938123e-01,  1.08677987e+00,\n        -5.17614519e-01, -3.79106449e-01, -4.62848296e-01,\n        -1.27962065e+00, -3.33800241e-01,  9.42505081e-01,\n        -1.99836578e-01, -9.96569537e-02,  1.49140622e+00,\n         1.60746172e+00, -2.28925972e-01,  1.56259925e+00,\n        -4.04736051e-01, -2.59011088e-01, -1.79483352e-01,\n        -2.50843738e-01, -2.70245106e-01,  7.01755800e-01,\n         3.22982623e-02, -3.24115320e-01, -1.94666364e-01,\n        -3.17537346e-01, -1.85388721e-01,  7.70525159e-01,\n        -2.85297902e-01,  7.79485257e-01,  5.02963669e-01,\n        -3.39862387e-01, -3.32827024e-01, -1.08799133e-01,\n        -1.68308454e-01,  3.43057145e-01, -6.54561644e-01,\n        -2.32383818e-01,  1.56792558e+00, -1.98407792e-01,\n        -3.24224348e-01, -5.34466995e-01, -2.72216070e-01,\n         1.60342320e+00,  1.20759523e+00, -2.70636066e-01,\n         1.01838762e+00, -1.25172392e-01,  3.23797253e-01,\n         3.02291068e+00, -1.69000109e-01,  9.80055176e-01,\n         1.67958597e+00, -2.20009116e-01, -1.84145297e-02,\n         6.96820159e-01,  1.18493206e+00, -1.63626808e-01,\n        -1.16288229e-01, -1.80818150e-01, -1.26334283e-01,\n         1.58771441e-01, -3.51729310e-01,  1.03380605e+00,\n        -6.95156225e-01,  1.37952701e+00,  3.01090907e+00,\n        -4.02231838e-01, -4.36832692e-01, -7.15439843e-01,\n        -2.93009453e-01, -2.44593839e-01,  5.78995810e-01,\n        -2.50837921e-01, -4.34282586e-01,  2.73921796e+00,\n        -1.22797499e-01, -2.04540793e-01, -3.80395025e-01,\n         1.98838470e+00, -4.03902218e-01, -1.92901655e-01,\n        -1.73654344e-01,  7.11145910e-02, -4.81658497e-02,\n         1.22379589e+00, -8.81405803e-01, -1.82821111e-01,\n         1.74477021e+00,  1.95409730e-01, -1.69762465e-01,\n        -4.77426147e-01, -1.14424965e-01, -1.87723037e-01,\n         3.32955834e+00, -3.03748154e-01,  1.53880796e+00,\n        -1.03745915e+00,  5.55902538e-01,  2.34952705e+00,\n        -3.10633801e-01, -1.34811593e-01,  2.35172076e-02,\n        -1.87602268e-01, -5.12796795e-01,  1.64387792e-01,\n        -1.94656479e-01, -1.06482314e+00, -2.27425512e-01,\n         9.32834730e-01, -6.71476951e-01,  7.78472403e-01,\n         9.13925344e-01, -3.42511275e-01, -5.71670237e-01,\n        -8.18743428e-02, -3.95439653e-01, -1.09715587e-01,\n        -3.16121350e-01, -3.23879226e-01, -1.50197970e-01,\n        -2.80522865e-01,  1.35993261e+00,  1.14585169e-01,\n        -2.54456064e-01,  1.27294406e+00,  2.13966650e-01,\n        -2.37982514e-02, -1.46225291e-01, -1.12773815e-01,\n         3.08128345e+00,  1.69801135e+00, -9.24677458e-02,\n         1.71143173e+00, -5.30755242e-01, -3.89659803e-01,\n         9.29087154e-01,  9.02268895e-01, -8.08783449e-01,\n         1.09816439e-01, -1.89935795e-01,  1.03358583e+00,\n        -1.97550278e-01, -4.04442333e-01, -2.76266417e-01,\n        -9.93941431e-02,  1.28048364e-01, -2.91241989e-01,\n        -1.66931223e-01, -6.21405806e-01, -4.04353693e-01,\n        -1.87561259e-01, -1.23346481e-01, -2.02640241e-01,\n        -4.21945024e-01, -3.09782573e-01, -1.63590038e-01,\n        -2.59533597e-01, -3.75751642e-01, -7.25981678e-01,\n         2.66245679e-01,  5.03527457e-01, -9.09077902e-01,\n        -3.50929806e-01,  2.78732453e-01, -3.65502174e-01,\n        -1.66907411e+00,  1.06337661e-02, -1.29631052e-01,\n        -1.61166042e-01,  1.90451323e-01,  2.05977441e-01,\n         1.52781149e+00, -2.82577534e-01,  3.03329522e-01,\n        -2.39420278e-01,  1.34048813e+00,  2.54474819e-01,\n         1.07277051e-01, -2.27913156e-01, -1.08143116e+00,\n         4.49656852e+00, -3.15493722e-01,  2.83232630e-01,\n         1.33010533e-01,  8.10190739e-01, -2.95356006e-01,\n        -2.66933956e-01, -2.11042470e-01, -2.32924471e-01,\n         2.01366926e+00, -3.41447008e-01,  4.44360591e-01,\n         2.11575182e-01, -2.13706607e-01, -8.98688025e-01,\n        -1.53978689e-01, -1.44440466e-01, -4.32754271e-01,\n        -2.27942398e-01, -2.40144670e-01,  7.71932349e-01,\n        -1.37929585e-01, -2.27681270e-01,  2.77815259e-02,\n        -2.86847686e-01, -2.41551985e-01, -1.27653961e-01,\n        -6.11928958e-01, -2.38721521e-01, -4.17765584e-01,\n         3.94780599e+00,  9.33582933e-01, -1.29325342e-01,\n        -4.58607669e-01, -1.29518901e-01, -6.49496983e-01,\n        -2.17869142e+00, -7.50210281e-01, -8.56952212e-01,\n        -1.48374668e+00, -6.39210463e-01,  4.92752444e-01,\n         5.17318808e-01, -5.71427309e-01, -1.09023866e-01,\n        -9.47314390e-01, -2.09449186e-01, -3.71030363e-01,\n         6.33789554e-01, -4.64282410e-01, -1.43224960e-01,\n        -4.11722600e-01, -2.59270727e-01, -1.06002869e-01,\n         3.13097460e-01, -1.38273109e-02, -5.31463784e-01,\n        -4.64493037e-01, -1.80188675e-01, -2.65102636e-01,\n        -2.34033796e-01, -2.22789549e-01,  7.37661160e-01,\n        -4.26057578e-01, -7.82554708e-01, -3.05760321e-01,\n        -7.07417783e-01,  3.00721705e+00,  2.23352349e+00,\n        -3.50122742e-01, -2.55323213e-01, -3.26154504e-01,\n        -1.33589020e-01, -9.30114895e-02, -1.15212834e-01,\n        -2.26172548e-01, -9.03004867e-03, -2.44709210e-01,\n        -2.22333725e-01, -2.76193060e-01,  6.19783939e-01,\n         1.35474462e-01,  2.55670241e-01, -2.21662014e-01,\n        -1.94848017e-01, -1.70466486e-01, -1.57532190e-01,\n        -1.82988395e-01, -6.28423842e-01, -1.71010256e-01,\n        -2.15098256e-01, -3.10619109e-01,  3.58481228e-01,\n        -1.86488871e-01,  2.20927804e-01,  4.03488724e-01,\n         2.38386940e+00, -1.88639616e-01, -8.81955240e-02,\n         6.13924396e-02, -1.74529316e-01, -1.52004465e-01,\n         7.82512506e-01, -7.29388704e-01,  1.84629368e+00,\n        -3.06056093e-01,  1.08645215e+00,  1.20903629e+00,\n         1.84531025e+00, -6.02977278e-01,  1.04400707e-01,\n        -3.53817189e-01, -1.37577201e-01, -1.05595307e-01,\n        -2.55496469e-01,  8.93759757e-01,  5.90923569e-02,\n        -2.57083814e-01, -3.34422110e-02, -1.98264857e-01,\n        -1.81635920e-01, -4.76787945e-01, -6.75477230e-01,\n        -2.32453109e-01, -1.33777010e-01, -7.71596775e-02,\n        -2.33890455e-01,  1.47463891e+00,  8.20161347e-02,\n         1.82864172e+00,  1.08215773e+00, -9.14429410e-01,\n        -6.72900886e-01, -1.49095699e-01, -1.06195179e+00,\n        -2.66260964e-01, -1.79398129e-01, -1.95896541e+00,\n        -2.73642992e-01, -1.13671589e+00,  4.12924607e-02,\n         1.21540897e-02, -2.11069475e-01, -6.86027998e-02,\n        -4.46634257e-01, -3.68242732e-02, -3.22261580e-01,\n         1.33279838e+00, -2.21565063e-01, -2.30996970e-01,\n         1.54916101e+00,  7.68404322e-01, -4.71605305e-01,\n        -1.21400166e-01, -3.67552921e-01, -3.72508342e-01,\n        -6.46981431e-01,  1.58474144e+00, -3.86131415e-01,\n        -1.11809300e+00, -3.00643636e-01, -5.88828414e-01,\n        -4.23368858e-01, -3.15172935e-01,  1.03199798e+00,\n        -1.15105402e-01, -1.91507376e-01, -2.55595199e-01,\n         1.06098997e+00, -9.65966072e-01,  1.86153964e-01,\n         6.61609103e-01, -2.24471147e-01, -1.97430424e-01,\n         2.35875377e+00,  1.33745597e+00, -1.56013315e-01]])"
     },
     "execution_count": 28,
     "metadata": {},
     "output_type": "execute_result"
    }
   ],
   "source": [
    "selector = SelectFromModel(estimator=LogisticRegression()).fit(feature, target)\n",
    "selector.estimator_.coef_"
   ],
   "metadata": {
    "collapsed": false,
    "ExecuteTime": {
     "start_time": "2023-05-25T14:56:35.888737Z",
     "end_time": "2023-05-25T14:56:36.061732Z"
    }
   }
  },
  {
   "cell_type": "code",
   "execution_count": 29,
   "outputs": [
    {
     "data": {
      "text/plain": "array([False, False, False,  True,  True, False, False, False,  True,\n       False, False,  True, False, False, False, False,  True,  True,\n       False,  True,  True, False, False,  True, False, False,  True,\n       False, False,  True, False,  True, False, False, False, False,\n       False, False,  True,  True, False,  True, False,  True,  True,\n       False, False, False, False, False, False, False, False, False,\n       False, False,  True, False, False, False, False, False, False,\n        True, False, False, False, False, False,  True,  True, False,\n       False, False, False, False, False, False, False, False, False,\n       False, False, False, False, False, False, False,  True, False,\n       False, False,  True, False,  True, False, False,  True, False,\n       False, False, False,  True, False, False,  True, False,  True,\n        True, False, False, False, False, False,  True, False, False,\n        True,  True, False,  True,  True, False,  True,  True, False,\n       False,  True, False, False,  True, False,  True, False, False,\n       False,  True, False, False,  True,  True,  True,  True, False,\n        True,  True,  True, False, False, False, False, False, False,\n        True,  True,  True, False, False, False,  True,  True,  True,\n       False, False, False, False, False,  True, False, False,  True,\n       False, False,  True, False, False, False, False, False, False,\n       False, False, False, False, False, False,  True, False, False,\n       False,  True, False, False,  True, False, False, False, False,\n       False, False, False, False, False,  True, False, False, False,\n       False, False,  True, False, False,  True,  True, False,  True,\n        True, False, False, False, False,  True, False, False, False,\n       False, False,  True, False, False, False,  True, False, False,\n       False,  True, False, False, False, False,  True, False,  True,\n        True,  True, False, False, False, False, False, False, False,\n        True,  True, False, False, False,  True, False, False,  True,\n       False, False, False, False,  True,  True, False, False, False,\n       False,  True, False,  True, False, False, False, False,  True,\n       False,  True,  True, False, False, False, False,  True,  True,\n       False, False,  True, False, False, False, False, False, False,\n        True, False,  True, False,  True,  True, False, False, False,\n       False, False,  True,  True, False, False, False,  True, False,\n        True, False, False,  True, False, False, False, False,  True,\n       False, False,  True, False, False, False, False, False,  True,\n        True,  True, False,  True, False, False, False, False, False,\n       False,  True, False, False, False, False, False, False, False,\n       False, False, False, False, False, False, False,  True, False,\n       False, False,  True,  True, False, False, False, False, False,\n       False, False, False, False, False, False, False, False,  True,\n       False,  True,  True, False,  True, False, False, False,  True,\n       False, False, False,  True, False, False, False, False, False,\n       False,  True, False, False,  True,  True,  True, False,  True,\n       False, False, False, False, False, False, False, False, False,\n       False, False, False, False, False, False,  True, False, False,\n        True,  True, False,  True, False, False,  True, False, False,\n       False, False, False, False,  True, False, False, False, False,\n       False, False,  True,  True, False, False, False, False, False,\n       False,  True,  True, False,  True,  True, False,  True, False,\n        True, False, False,  True,  True,  True, False, False, False,\n       False,  True, False, False, False, False, False, False,  True,\n       False, False, False,  True, False,  True, False, False,  True,\n        True, False,  True, False, False, False, False, False,  True,\n       False, False, False, False, False,  True, False,  True, False,\n       False, False, False, False, False,  True, False,  True, False,\n       False, False, False,  True,  True, False,  True, False, False,\n        True, False,  True,  True, False, False,  True,  True, False,\n       False, False, False, False, False,  True,  True,  True,  True,\n       False, False,  True, False, False,  True, False, False,  True,\n       False, False, False,  True, False, False, False, False, False,\n        True,  True, False,  True, False, False, False, False, False,\n        True, False,  True,  True,  True,  True, False, False, False,\n       False, False, False, False,  True, False,  True,  True,  True,\n        True, False,  True, False, False, False, False, False, False,\n       False,  True, False, False,  True, False, False, False, False,\n        True,  True, False,  True, False, False,  True,  True,  True,\n       False, False,  True, False, False, False, False, False, False,\n       False,  True, False, False, False, False, False, False, False,\n       False, False,  True, False, False,  True, False, False, False,\n        True, False, False, False, False, False,  True, False, False,\n       False,  True, False, False, False,  True,  True, False, False,\n       False,  True, False, False, False, False,  True, False, False,\n       False, False,  True, False, False, False, False, False,  True,\n       False, False, False, False, False, False,  True, False, False,\n        True,  True, False, False, False,  True,  True,  True,  True,\n        True,  True, False, False,  True, False,  True, False, False,\n        True, False, False, False, False, False, False, False, False,\n       False, False, False, False, False,  True, False,  True, False,\n        True,  True,  True, False, False, False, False, False, False,\n       False, False, False, False, False,  True, False, False, False,\n       False, False, False, False,  True, False, False, False, False,\n       False, False, False,  True, False, False, False, False, False,\n        True,  True,  True, False,  True,  True,  True,  True, False,\n       False, False, False, False,  True, False, False, False, False,\n       False, False,  True, False, False, False, False,  True, False,\n        True,  True,  True,  True, False,  True, False, False,  True,\n       False,  True, False, False, False, False, False, False, False,\n        True, False, False,  True,  True, False, False, False, False,\n        True,  True, False,  True, False,  True, False, False,  True,\n       False, False, False,  True,  True, False,  True, False, False,\n        True,  True, False])"
     },
     "execution_count": 29,
     "metadata": {},
     "output_type": "execute_result"
    }
   ],
   "source": [
    "selector.get_support()"
   ],
   "metadata": {
    "collapsed": false,
    "ExecuteTime": {
     "start_time": "2023-05-25T14:56:36.061732Z",
     "end_time": "2023-05-25T14:56:36.092734Z"
    }
   }
  },
  {
   "cell_type": "code",
   "execution_count": 30,
   "outputs": [
    {
     "data": {
      "text/plain": "      about  account  after  aight  already  alright  also  always  answer  \\\n0       0.0      0.0    0.0    0.0  0.00000      0.0   0.0     0.0     0.0   \n1       0.0      0.0    0.0    0.0  0.00000      0.0   0.0     0.0     0.0   \n2       0.0      0.0    0.0    0.0  0.00000      0.0   0.0     0.0     0.0   \n3       0.0      0.0    0.0    0.0  0.56728      0.0   0.0     0.0     0.0   \n4       0.0      0.0    0.0    0.0  0.00000      0.0   0.0     0.0     0.0   \n...     ...      ...    ...    ...      ...      ...   ...     ...     ...   \n5567    0.0      0.0    0.0    0.0  0.00000      0.0   0.0     0.0     0.0   \n5568    0.0      0.0    0.0    0.0  0.00000      0.0   0.0     0.0     0.0   \n5569    0.0      0.0    0.0    0.0  0.00000      0.0   0.0     0.0     0.0   \n5570    0.0      0.0    0.0    0.0  0.00000      0.0   0.0     0.0     0.0   \n5571    0.0      0.0    0.0    0.0  0.00000      0.0   0.0     0.0     0.0   \n\n      anything  ...  wont  word  work  working  worth  xmas  yeah  years  \\\n0          0.0  ...   0.0   0.0   0.0      0.0    0.0   0.0   0.0    0.0   \n1          0.0  ...   0.0   0.0   0.0      0.0    0.0   0.0   0.0    0.0   \n2          0.0  ...   0.0   0.0   0.0      0.0    0.0   0.0   0.0    0.0   \n3          0.0  ...   0.0   0.0   0.0      0.0    0.0   0.0   0.0    0.0   \n4          0.0  ...   0.0   0.0   0.0      0.0    0.0   0.0   0.0    0.0   \n...        ...  ...   ...   ...   ...      ...    ...   ...   ...    ...   \n5567       0.0  ...   0.0   0.0   0.0      0.0    0.0   0.0   0.0    0.0   \n5568       0.0  ...   0.0   0.0   0.0      0.0    0.0   0.0   0.0    0.0   \n5569       0.0  ...   0.0   0.0   0.0      0.0    0.0   0.0   0.0    0.0   \n5570       0.0  ...   0.0   0.0   0.0      0.0    0.0   0.0   0.0    0.0   \n5571       0.0  ...   0.0   0.0   0.0      0.0    0.0   0.0   0.0    0.0   \n\n      your  yours  \n0      0.0    0.0  \n1      0.0    0.0  \n2      0.0    0.0  \n3      0.0    0.0  \n4      0.0    0.0  \n...    ...    ...  \n5567   0.0    0.0  \n5568   0.0    0.0  \n5569   0.0    0.0  \n5570   0.0    0.0  \n5571   0.0    0.0  \n\n[5572 rows x 247 columns]",
      "text/html": "<div>\n<style scoped>\n    .dataframe tbody tr th:only-of-type {\n        vertical-align: middle;\n    }\n\n    .dataframe tbody tr th {\n        vertical-align: top;\n    }\n\n    .dataframe thead th {\n        text-align: right;\n    }\n</style>\n<table border=\"1\" class=\"dataframe\">\n  <thead>\n    <tr style=\"text-align: right;\">\n      <th></th>\n      <th>about</th>\n      <th>account</th>\n      <th>after</th>\n      <th>aight</th>\n      <th>already</th>\n      <th>alright</th>\n      <th>also</th>\n      <th>always</th>\n      <th>answer</th>\n      <th>anything</th>\n      <th>...</th>\n      <th>wont</th>\n      <th>word</th>\n      <th>work</th>\n      <th>working</th>\n      <th>worth</th>\n      <th>xmas</th>\n      <th>yeah</th>\n      <th>years</th>\n      <th>your</th>\n      <th>yours</th>\n    </tr>\n  </thead>\n  <tbody>\n    <tr>\n      <th>0</th>\n      <td>0.0</td>\n      <td>0.0</td>\n      <td>0.0</td>\n      <td>0.0</td>\n      <td>0.00000</td>\n      <td>0.0</td>\n      <td>0.0</td>\n      <td>0.0</td>\n      <td>0.0</td>\n      <td>0.0</td>\n      <td>...</td>\n      <td>0.0</td>\n      <td>0.0</td>\n      <td>0.0</td>\n      <td>0.0</td>\n      <td>0.0</td>\n      <td>0.0</td>\n      <td>0.0</td>\n      <td>0.0</td>\n      <td>0.0</td>\n      <td>0.0</td>\n    </tr>\n    <tr>\n      <th>1</th>\n      <td>0.0</td>\n      <td>0.0</td>\n      <td>0.0</td>\n      <td>0.0</td>\n      <td>0.00000</td>\n      <td>0.0</td>\n      <td>0.0</td>\n      <td>0.0</td>\n      <td>0.0</td>\n      <td>0.0</td>\n      <td>...</td>\n      <td>0.0</td>\n      <td>0.0</td>\n      <td>0.0</td>\n      <td>0.0</td>\n      <td>0.0</td>\n      <td>0.0</td>\n      <td>0.0</td>\n      <td>0.0</td>\n      <td>0.0</td>\n      <td>0.0</td>\n    </tr>\n    <tr>\n      <th>2</th>\n      <td>0.0</td>\n      <td>0.0</td>\n      <td>0.0</td>\n      <td>0.0</td>\n      <td>0.00000</td>\n      <td>0.0</td>\n      <td>0.0</td>\n      <td>0.0</td>\n      <td>0.0</td>\n      <td>0.0</td>\n      <td>...</td>\n      <td>0.0</td>\n      <td>0.0</td>\n      <td>0.0</td>\n      <td>0.0</td>\n      <td>0.0</td>\n      <td>0.0</td>\n      <td>0.0</td>\n      <td>0.0</td>\n      <td>0.0</td>\n      <td>0.0</td>\n    </tr>\n    <tr>\n      <th>3</th>\n      <td>0.0</td>\n      <td>0.0</td>\n      <td>0.0</td>\n      <td>0.0</td>\n      <td>0.56728</td>\n      <td>0.0</td>\n      <td>0.0</td>\n      <td>0.0</td>\n      <td>0.0</td>\n      <td>0.0</td>\n      <td>...</td>\n      <td>0.0</td>\n      <td>0.0</td>\n      <td>0.0</td>\n      <td>0.0</td>\n      <td>0.0</td>\n      <td>0.0</td>\n      <td>0.0</td>\n      <td>0.0</td>\n      <td>0.0</td>\n      <td>0.0</td>\n    </tr>\n    <tr>\n      <th>4</th>\n      <td>0.0</td>\n      <td>0.0</td>\n      <td>0.0</td>\n      <td>0.0</td>\n      <td>0.00000</td>\n      <td>0.0</td>\n      <td>0.0</td>\n      <td>0.0</td>\n      <td>0.0</td>\n      <td>0.0</td>\n      <td>...</td>\n      <td>0.0</td>\n      <td>0.0</td>\n      <td>0.0</td>\n      <td>0.0</td>\n      <td>0.0</td>\n      <td>0.0</td>\n      <td>0.0</td>\n      <td>0.0</td>\n      <td>0.0</td>\n      <td>0.0</td>\n    </tr>\n    <tr>\n      <th>...</th>\n      <td>...</td>\n      <td>...</td>\n      <td>...</td>\n      <td>...</td>\n      <td>...</td>\n      <td>...</td>\n      <td>...</td>\n      <td>...</td>\n      <td>...</td>\n      <td>...</td>\n      <td>...</td>\n      <td>...</td>\n      <td>...</td>\n      <td>...</td>\n      <td>...</td>\n      <td>...</td>\n      <td>...</td>\n      <td>...</td>\n      <td>...</td>\n      <td>...</td>\n      <td>...</td>\n    </tr>\n    <tr>\n      <th>5567</th>\n      <td>0.0</td>\n      <td>0.0</td>\n      <td>0.0</td>\n      <td>0.0</td>\n      <td>0.00000</td>\n      <td>0.0</td>\n      <td>0.0</td>\n      <td>0.0</td>\n      <td>0.0</td>\n      <td>0.0</td>\n      <td>...</td>\n      <td>0.0</td>\n      <td>0.0</td>\n      <td>0.0</td>\n      <td>0.0</td>\n      <td>0.0</td>\n      <td>0.0</td>\n      <td>0.0</td>\n      <td>0.0</td>\n      <td>0.0</td>\n      <td>0.0</td>\n    </tr>\n    <tr>\n      <th>5568</th>\n      <td>0.0</td>\n      <td>0.0</td>\n      <td>0.0</td>\n      <td>0.0</td>\n      <td>0.00000</td>\n      <td>0.0</td>\n      <td>0.0</td>\n      <td>0.0</td>\n      <td>0.0</td>\n      <td>0.0</td>\n      <td>...</td>\n      <td>0.0</td>\n      <td>0.0</td>\n      <td>0.0</td>\n      <td>0.0</td>\n      <td>0.0</td>\n      <td>0.0</td>\n      <td>0.0</td>\n      <td>0.0</td>\n      <td>0.0</td>\n      <td>0.0</td>\n    </tr>\n    <tr>\n      <th>5569</th>\n      <td>0.0</td>\n      <td>0.0</td>\n      <td>0.0</td>\n      <td>0.0</td>\n      <td>0.00000</td>\n      <td>0.0</td>\n      <td>0.0</td>\n      <td>0.0</td>\n      <td>0.0</td>\n      <td>0.0</td>\n      <td>...</td>\n      <td>0.0</td>\n      <td>0.0</td>\n      <td>0.0</td>\n      <td>0.0</td>\n      <td>0.0</td>\n      <td>0.0</td>\n      <td>0.0</td>\n      <td>0.0</td>\n      <td>0.0</td>\n      <td>0.0</td>\n    </tr>\n    <tr>\n      <th>5570</th>\n      <td>0.0</td>\n      <td>0.0</td>\n      <td>0.0</td>\n      <td>0.0</td>\n      <td>0.00000</td>\n      <td>0.0</td>\n      <td>0.0</td>\n      <td>0.0</td>\n      <td>0.0</td>\n      <td>0.0</td>\n      <td>...</td>\n      <td>0.0</td>\n      <td>0.0</td>\n      <td>0.0</td>\n      <td>0.0</td>\n      <td>0.0</td>\n      <td>0.0</td>\n      <td>0.0</td>\n      <td>0.0</td>\n      <td>0.0</td>\n      <td>0.0</td>\n    </tr>\n    <tr>\n      <th>5571</th>\n      <td>0.0</td>\n      <td>0.0</td>\n      <td>0.0</td>\n      <td>0.0</td>\n      <td>0.00000</td>\n      <td>0.0</td>\n      <td>0.0</td>\n      <td>0.0</td>\n      <td>0.0</td>\n      <td>0.0</td>\n      <td>...</td>\n      <td>0.0</td>\n      <td>0.0</td>\n      <td>0.0</td>\n      <td>0.0</td>\n      <td>0.0</td>\n      <td>0.0</td>\n      <td>0.0</td>\n      <td>0.0</td>\n      <td>0.0</td>\n      <td>0.0</td>\n    </tr>\n  </tbody>\n</table>\n<p>5572 rows × 247 columns</p>\n</div>"
     },
     "execution_count": 30,
     "metadata": {},
     "output_type": "execute_result"
    }
   ],
   "source": [
    "feature_from_model = feature[feature.columns[selector.get_support(indices=True)]]\n",
    "feature_from_model"
   ],
   "metadata": {
    "collapsed": false,
    "ExecuteTime": {
     "start_time": "2023-05-25T14:56:36.077735Z",
     "end_time": "2023-05-25T14:56:36.108732Z"
    }
   }
  },
  {
   "cell_type": "code",
   "execution_count": 31,
   "outputs": [
    {
     "data": {
      "text/plain": "Index(['about', 'account', 'after', 'aight', 'already', 'alright', 'also',\n       'always', 'answer', 'anything', 'apply', 'area', 'attempt', 'auction',\n       'await', 'award', 'awarded', 'been', 'bill', 'bonus', 'book', 'call',\n       'calls', 'camera', 'cant', 'cash', 'chance', 'charge', 'chat',\n       'choose'],\n      dtype='object')"
     },
     "execution_count": 31,
     "metadata": {},
     "output_type": "execute_result"
    }
   ],
   "source": [
    "feature_from_model.columns[:30]"
   ],
   "metadata": {
    "collapsed": false,
    "ExecuteTime": {
     "start_time": "2023-05-25T14:56:36.109734Z",
     "end_time": "2023-05-25T14:56:36.137732Z"
    }
   }
  },
  {
   "cell_type": "code",
   "execution_count": 32,
   "outputs": [
    {
     "data": {
      "text/plain": "         apply  award  awarded      call  cash     claim  code  collection  \\\n0     0.000000    0.0      0.0  0.000000   0.0  0.000000   0.0         0.0   \n1     0.000000    0.0      0.0  0.000000   0.0  0.000000   0.0         0.0   \n2     0.251673    0.0      0.0  0.000000   0.0  0.000000   0.0         0.0   \n3     0.000000    0.0      0.0  0.000000   0.0  0.000000   0.0         0.0   \n4     0.000000    0.0      0.0  0.000000   0.0  0.000000   0.0         0.0   \n...        ...    ...      ...       ...   ...       ...   ...         ...   \n5567  0.000000    0.0      0.0  0.156881   0.0  0.233973   0.0         0.0   \n5568  0.000000    0.0      0.0  0.000000   0.0  0.000000   0.0         0.0   \n5569  0.000000    0.0      0.0  0.000000   0.0  0.000000   0.0         0.0   \n5570  0.000000    0.0      0.0  0.000000   0.0  0.000000   0.0         0.0   \n5571  0.000000    0.0      0.0  0.000000   0.0  0.000000   0.0         0.0   \n\n       contact  customer  ...  reply  ringtone  service  stop      text  tone  \\\n0     0.000000       0.0  ...    0.0       0.0      0.0   0.0  0.000000   0.0   \n1     0.000000       0.0  ...    0.0       0.0      0.0   0.0  0.000000   0.0   \n2     0.000000       0.0  ...    0.0       0.0      0.0   0.0  0.182704   0.0   \n3     0.000000       0.0  ...    0.0       0.0      0.0   0.0  0.000000   0.0   \n4     0.000000       0.0  ...    0.0       0.0      0.0   0.0  0.000000   0.0   \n...        ...       ...  ...    ...       ...      ...   ...       ...   ...   \n5567  0.255654       0.0  ...    0.0       0.0      0.0   0.0  0.000000   0.0   \n5568  0.000000       0.0  ...    0.0       0.0      0.0   0.0  0.000000   0.0   \n5569  0.000000       0.0  ...    0.0       0.0      0.0   0.0  0.000000   0.0   \n5570  0.000000       0.0  ...    0.0       0.0      0.0   0.0  0.000000   0.0   \n5571  0.000000       0.0  ...    0.0       0.0      0.0   0.0  0.000000   0.0   \n\n      tones  urgent  valid  video  \n0       0.0     0.0    0.0    0.0  \n1       0.0     0.0    0.0    0.0  \n2       0.0     0.0    0.0    0.0  \n3       0.0     0.0    0.0    0.0  \n4       0.0     0.0    0.0    0.0  \n...     ...     ...    ...    ...  \n5567    0.0     0.0    0.0    0.0  \n5568    0.0     0.0    0.0    0.0  \n5569    0.0     0.0    0.0    0.0  \n5570    0.0     0.0    0.0    0.0  \n5571    0.0     0.0    0.0    0.0  \n\n[5572 rows x 30 columns]",
      "text/html": "<div>\n<style scoped>\n    .dataframe tbody tr th:only-of-type {\n        vertical-align: middle;\n    }\n\n    .dataframe tbody tr th {\n        vertical-align: top;\n    }\n\n    .dataframe thead th {\n        text-align: right;\n    }\n</style>\n<table border=\"1\" class=\"dataframe\">\n  <thead>\n    <tr style=\"text-align: right;\">\n      <th></th>\n      <th>apply</th>\n      <th>award</th>\n      <th>awarded</th>\n      <th>call</th>\n      <th>cash</th>\n      <th>claim</th>\n      <th>code</th>\n      <th>collection</th>\n      <th>contact</th>\n      <th>customer</th>\n      <th>...</th>\n      <th>reply</th>\n      <th>ringtone</th>\n      <th>service</th>\n      <th>stop</th>\n      <th>text</th>\n      <th>tone</th>\n      <th>tones</th>\n      <th>urgent</th>\n      <th>valid</th>\n      <th>video</th>\n    </tr>\n  </thead>\n  <tbody>\n    <tr>\n      <th>0</th>\n      <td>0.000000</td>\n      <td>0.0</td>\n      <td>0.0</td>\n      <td>0.000000</td>\n      <td>0.0</td>\n      <td>0.000000</td>\n      <td>0.0</td>\n      <td>0.0</td>\n      <td>0.000000</td>\n      <td>0.0</td>\n      <td>...</td>\n      <td>0.0</td>\n      <td>0.0</td>\n      <td>0.0</td>\n      <td>0.0</td>\n      <td>0.000000</td>\n      <td>0.0</td>\n      <td>0.0</td>\n      <td>0.0</td>\n      <td>0.0</td>\n      <td>0.0</td>\n    </tr>\n    <tr>\n      <th>1</th>\n      <td>0.000000</td>\n      <td>0.0</td>\n      <td>0.0</td>\n      <td>0.000000</td>\n      <td>0.0</td>\n      <td>0.000000</td>\n      <td>0.0</td>\n      <td>0.0</td>\n      <td>0.000000</td>\n      <td>0.0</td>\n      <td>...</td>\n      <td>0.0</td>\n      <td>0.0</td>\n      <td>0.0</td>\n      <td>0.0</td>\n      <td>0.000000</td>\n      <td>0.0</td>\n      <td>0.0</td>\n      <td>0.0</td>\n      <td>0.0</td>\n      <td>0.0</td>\n    </tr>\n    <tr>\n      <th>2</th>\n      <td>0.251673</td>\n      <td>0.0</td>\n      <td>0.0</td>\n      <td>0.000000</td>\n      <td>0.0</td>\n      <td>0.000000</td>\n      <td>0.0</td>\n      <td>0.0</td>\n      <td>0.000000</td>\n      <td>0.0</td>\n      <td>...</td>\n      <td>0.0</td>\n      <td>0.0</td>\n      <td>0.0</td>\n      <td>0.0</td>\n      <td>0.182704</td>\n      <td>0.0</td>\n      <td>0.0</td>\n      <td>0.0</td>\n      <td>0.0</td>\n      <td>0.0</td>\n    </tr>\n    <tr>\n      <th>3</th>\n      <td>0.000000</td>\n      <td>0.0</td>\n      <td>0.0</td>\n      <td>0.000000</td>\n      <td>0.0</td>\n      <td>0.000000</td>\n      <td>0.0</td>\n      <td>0.0</td>\n      <td>0.000000</td>\n      <td>0.0</td>\n      <td>...</td>\n      <td>0.0</td>\n      <td>0.0</td>\n      <td>0.0</td>\n      <td>0.0</td>\n      <td>0.000000</td>\n      <td>0.0</td>\n      <td>0.0</td>\n      <td>0.0</td>\n      <td>0.0</td>\n      <td>0.0</td>\n    </tr>\n    <tr>\n      <th>4</th>\n      <td>0.000000</td>\n      <td>0.0</td>\n      <td>0.0</td>\n      <td>0.000000</td>\n      <td>0.0</td>\n      <td>0.000000</td>\n      <td>0.0</td>\n      <td>0.0</td>\n      <td>0.000000</td>\n      <td>0.0</td>\n      <td>...</td>\n      <td>0.0</td>\n      <td>0.0</td>\n      <td>0.0</td>\n      <td>0.0</td>\n      <td>0.000000</td>\n      <td>0.0</td>\n      <td>0.0</td>\n      <td>0.0</td>\n      <td>0.0</td>\n      <td>0.0</td>\n    </tr>\n    <tr>\n      <th>...</th>\n      <td>...</td>\n      <td>...</td>\n      <td>...</td>\n      <td>...</td>\n      <td>...</td>\n      <td>...</td>\n      <td>...</td>\n      <td>...</td>\n      <td>...</td>\n      <td>...</td>\n      <td>...</td>\n      <td>...</td>\n      <td>...</td>\n      <td>...</td>\n      <td>...</td>\n      <td>...</td>\n      <td>...</td>\n      <td>...</td>\n      <td>...</td>\n      <td>...</td>\n      <td>...</td>\n    </tr>\n    <tr>\n      <th>5567</th>\n      <td>0.000000</td>\n      <td>0.0</td>\n      <td>0.0</td>\n      <td>0.156881</td>\n      <td>0.0</td>\n      <td>0.233973</td>\n      <td>0.0</td>\n      <td>0.0</td>\n      <td>0.255654</td>\n      <td>0.0</td>\n      <td>...</td>\n      <td>0.0</td>\n      <td>0.0</td>\n      <td>0.0</td>\n      <td>0.0</td>\n      <td>0.000000</td>\n      <td>0.0</td>\n      <td>0.0</td>\n      <td>0.0</td>\n      <td>0.0</td>\n      <td>0.0</td>\n    </tr>\n    <tr>\n      <th>5568</th>\n      <td>0.000000</td>\n      <td>0.0</td>\n      <td>0.0</td>\n      <td>0.000000</td>\n      <td>0.0</td>\n      <td>0.000000</td>\n      <td>0.0</td>\n      <td>0.0</td>\n      <td>0.000000</td>\n      <td>0.0</td>\n      <td>...</td>\n      <td>0.0</td>\n      <td>0.0</td>\n      <td>0.0</td>\n      <td>0.0</td>\n      <td>0.000000</td>\n      <td>0.0</td>\n      <td>0.0</td>\n      <td>0.0</td>\n      <td>0.0</td>\n      <td>0.0</td>\n    </tr>\n    <tr>\n      <th>5569</th>\n      <td>0.000000</td>\n      <td>0.0</td>\n      <td>0.0</td>\n      <td>0.000000</td>\n      <td>0.0</td>\n      <td>0.000000</td>\n      <td>0.0</td>\n      <td>0.0</td>\n      <td>0.000000</td>\n      <td>0.0</td>\n      <td>...</td>\n      <td>0.0</td>\n      <td>0.0</td>\n      <td>0.0</td>\n      <td>0.0</td>\n      <td>0.000000</td>\n      <td>0.0</td>\n      <td>0.0</td>\n      <td>0.0</td>\n      <td>0.0</td>\n      <td>0.0</td>\n    </tr>\n    <tr>\n      <th>5570</th>\n      <td>0.000000</td>\n      <td>0.0</td>\n      <td>0.0</td>\n      <td>0.000000</td>\n      <td>0.0</td>\n      <td>0.000000</td>\n      <td>0.0</td>\n      <td>0.0</td>\n      <td>0.000000</td>\n      <td>0.0</td>\n      <td>...</td>\n      <td>0.0</td>\n      <td>0.0</td>\n      <td>0.0</td>\n      <td>0.0</td>\n      <td>0.000000</td>\n      <td>0.0</td>\n      <td>0.0</td>\n      <td>0.0</td>\n      <td>0.0</td>\n      <td>0.0</td>\n    </tr>\n    <tr>\n      <th>5571</th>\n      <td>0.000000</td>\n      <td>0.0</td>\n      <td>0.0</td>\n      <td>0.000000</td>\n      <td>0.0</td>\n      <td>0.000000</td>\n      <td>0.0</td>\n      <td>0.0</td>\n      <td>0.000000</td>\n      <td>0.0</td>\n      <td>...</td>\n      <td>0.0</td>\n      <td>0.0</td>\n      <td>0.0</td>\n      <td>0.0</td>\n      <td>0.000000</td>\n      <td>0.0</td>\n      <td>0.0</td>\n      <td>0.0</td>\n      <td>0.0</td>\n      <td>0.0</td>\n    </tr>\n  </tbody>\n</table>\n<p>5572 rows × 30 columns</p>\n</div>"
     },
     "execution_count": 32,
     "metadata": {},
     "output_type": "execute_result"
    }
   ],
   "source": [
    "sel_chi2 = SelectKBest(chi2, k=object_count)\n",
    "sel_chi2.fit(feature, target)\n",
    "feature_chi2 = feature[feature.columns[sel_chi2.get_support(indices=True)]]\n",
    "feature_chi2"
   ],
   "metadata": {
    "collapsed": false,
    "ExecuteTime": {
     "start_time": "2023-05-25T14:56:36.124733Z",
     "end_time": "2023-05-25T14:56:36.213732Z"
    }
   }
  },
  {
   "cell_type": "code",
   "execution_count": 33,
   "outputs": [
    {
     "data": {
      "text/plain": "Index(['apply', 'award', 'awarded', 'call', 'cash', 'claim', 'code',\n       'collection', 'contact', 'customer', 'draw', 'entry', 'free',\n       'guaranteed', 'landline', 'mobile', 'nokia', 'pobox', 'prize', 'rate',\n       'reply', 'ringtone', 'service', 'stop', 'text', 'tone', 'tones',\n       'urgent', 'valid', 'video'],\n      dtype='object')"
     },
     "execution_count": 33,
     "metadata": {},
     "output_type": "execute_result"
    }
   ],
   "source": [
    "feature_chi2.columns"
   ],
   "metadata": {
    "collapsed": false,
    "ExecuteTime": {
     "start_time": "2023-05-25T14:56:36.186734Z",
     "end_time": "2023-05-25T14:56:36.213732Z"
    }
   }
  },
  {
   "cell_type": "code",
   "execution_count": 35,
   "outputs": [
    {
     "data": {
      "text/plain": "      awarded      call  cash  chat     claim   contact  cost  draw      free  \\\n0         0.0  0.000000   0.0   0.0  0.000000  0.000000   0.0   0.0  0.000000   \n1         0.0  0.000000   0.0   0.0  0.000000  0.000000   0.0   0.0  0.000000   \n2         0.0  0.000000   0.0   0.0  0.000000  0.000000   0.0   0.0  0.171241   \n3         0.0  0.000000   0.0   0.0  0.000000  0.000000   0.0   0.0  0.000000   \n4         0.0  0.000000   0.0   0.0  0.000000  0.000000   0.0   0.0  0.000000   \n...       ...       ...   ...   ...       ...       ...   ...   ...       ...   \n5567      0.0  0.156881   0.0   0.0  0.233973  0.255654   0.0   0.0  0.000000   \n5568      0.0  0.000000   0.0   0.0  0.000000  0.000000   0.0   0.0  0.000000   \n5569      0.0  0.000000   0.0   0.0  0.000000  0.000000   0.0   0.0  0.000000   \n5570      0.0  0.000000   0.0   0.0  0.000000  0.000000   0.0   0.0  0.224395   \n5571      0.0  0.000000   0.0   0.0  0.000000  0.000000   0.0   0.0  0.000000   \n\n      from  ...  reply  send  service  stop      text      that  tone  urgent  \\\n0      0.0  ...    0.0   0.0      0.0   0.0  0.000000  0.000000   0.0     0.0   \n1      0.0  ...    0.0   0.0      0.0   0.0  0.000000  0.000000   0.0     0.0   \n2      0.0  ...    0.0   0.0      0.0   0.0  0.182704  0.000000   0.0     0.0   \n3      0.0  ...    0.0   0.0      0.0   0.0  0.000000  0.000000   0.0     0.0   \n4      0.0  ...    0.0   0.0      0.0   0.0  0.000000  0.000000   0.0     0.0   \n...    ...  ...    ...   ...      ...   ...       ...       ...   ...     ...   \n5567   0.0  ...    0.0   0.0      0.0   0.0  0.000000  0.000000   0.0     0.0   \n5568   0.0  ...    0.0   0.0      0.0   0.0  0.000000  0.000000   0.0     0.0   \n5569   0.0  ...    0.0   0.0      0.0   0.0  0.000000  0.341614   0.0     0.0   \n5570   0.0  ...    0.0   0.0      0.0   0.0  0.000000  0.000000   0.0     0.0   \n5571   0.0  ...    0.0   0.0      0.0   0.0  0.000000  0.000000   0.0     0.0   \n\n      with  your  \n0      0.0   0.0  \n1      0.0   0.0  \n2      0.0   0.0  \n3      0.0   0.0  \n4      0.0   0.0  \n...    ...   ...  \n5567   0.0   0.0  \n5568   0.0   0.0  \n5569   0.0   0.0  \n5570   0.0   0.0  \n5571   0.0   0.0  \n\n[5572 rows x 30 columns]",
      "text/html": "<div>\n<style scoped>\n    .dataframe tbody tr th:only-of-type {\n        vertical-align: middle;\n    }\n\n    .dataframe tbody tr th {\n        vertical-align: top;\n    }\n\n    .dataframe thead th {\n        text-align: right;\n    }\n</style>\n<table border=\"1\" class=\"dataframe\">\n  <thead>\n    <tr style=\"text-align: right;\">\n      <th></th>\n      <th>awarded</th>\n      <th>call</th>\n      <th>cash</th>\n      <th>chat</th>\n      <th>claim</th>\n      <th>contact</th>\n      <th>cost</th>\n      <th>draw</th>\n      <th>free</th>\n      <th>from</th>\n      <th>...</th>\n      <th>reply</th>\n      <th>send</th>\n      <th>service</th>\n      <th>stop</th>\n      <th>text</th>\n      <th>that</th>\n      <th>tone</th>\n      <th>urgent</th>\n      <th>with</th>\n      <th>your</th>\n    </tr>\n  </thead>\n  <tbody>\n    <tr>\n      <th>0</th>\n      <td>0.0</td>\n      <td>0.000000</td>\n      <td>0.0</td>\n      <td>0.0</td>\n      <td>0.000000</td>\n      <td>0.000000</td>\n      <td>0.0</td>\n      <td>0.0</td>\n      <td>0.000000</td>\n      <td>0.0</td>\n      <td>...</td>\n      <td>0.0</td>\n      <td>0.0</td>\n      <td>0.0</td>\n      <td>0.0</td>\n      <td>0.000000</td>\n      <td>0.000000</td>\n      <td>0.0</td>\n      <td>0.0</td>\n      <td>0.0</td>\n      <td>0.0</td>\n    </tr>\n    <tr>\n      <th>1</th>\n      <td>0.0</td>\n      <td>0.000000</td>\n      <td>0.0</td>\n      <td>0.0</td>\n      <td>0.000000</td>\n      <td>0.000000</td>\n      <td>0.0</td>\n      <td>0.0</td>\n      <td>0.000000</td>\n      <td>0.0</td>\n      <td>...</td>\n      <td>0.0</td>\n      <td>0.0</td>\n      <td>0.0</td>\n      <td>0.0</td>\n      <td>0.000000</td>\n      <td>0.000000</td>\n      <td>0.0</td>\n      <td>0.0</td>\n      <td>0.0</td>\n      <td>0.0</td>\n    </tr>\n    <tr>\n      <th>2</th>\n      <td>0.0</td>\n      <td>0.000000</td>\n      <td>0.0</td>\n      <td>0.0</td>\n      <td>0.000000</td>\n      <td>0.000000</td>\n      <td>0.0</td>\n      <td>0.0</td>\n      <td>0.171241</td>\n      <td>0.0</td>\n      <td>...</td>\n      <td>0.0</td>\n      <td>0.0</td>\n      <td>0.0</td>\n      <td>0.0</td>\n      <td>0.182704</td>\n      <td>0.000000</td>\n      <td>0.0</td>\n      <td>0.0</td>\n      <td>0.0</td>\n      <td>0.0</td>\n    </tr>\n    <tr>\n      <th>3</th>\n      <td>0.0</td>\n      <td>0.000000</td>\n      <td>0.0</td>\n      <td>0.0</td>\n      <td>0.000000</td>\n      <td>0.000000</td>\n      <td>0.0</td>\n      <td>0.0</td>\n      <td>0.000000</td>\n      <td>0.0</td>\n      <td>...</td>\n      <td>0.0</td>\n      <td>0.0</td>\n      <td>0.0</td>\n      <td>0.0</td>\n      <td>0.000000</td>\n      <td>0.000000</td>\n      <td>0.0</td>\n      <td>0.0</td>\n      <td>0.0</td>\n      <td>0.0</td>\n    </tr>\n    <tr>\n      <th>4</th>\n      <td>0.0</td>\n      <td>0.000000</td>\n      <td>0.0</td>\n      <td>0.0</td>\n      <td>0.000000</td>\n      <td>0.000000</td>\n      <td>0.0</td>\n      <td>0.0</td>\n      <td>0.000000</td>\n      <td>0.0</td>\n      <td>...</td>\n      <td>0.0</td>\n      <td>0.0</td>\n      <td>0.0</td>\n      <td>0.0</td>\n      <td>0.000000</td>\n      <td>0.000000</td>\n      <td>0.0</td>\n      <td>0.0</td>\n      <td>0.0</td>\n      <td>0.0</td>\n    </tr>\n    <tr>\n      <th>...</th>\n      <td>...</td>\n      <td>...</td>\n      <td>...</td>\n      <td>...</td>\n      <td>...</td>\n      <td>...</td>\n      <td>...</td>\n      <td>...</td>\n      <td>...</td>\n      <td>...</td>\n      <td>...</td>\n      <td>...</td>\n      <td>...</td>\n      <td>...</td>\n      <td>...</td>\n      <td>...</td>\n      <td>...</td>\n      <td>...</td>\n      <td>...</td>\n      <td>...</td>\n      <td>...</td>\n    </tr>\n    <tr>\n      <th>5567</th>\n      <td>0.0</td>\n      <td>0.156881</td>\n      <td>0.0</td>\n      <td>0.0</td>\n      <td>0.233973</td>\n      <td>0.255654</td>\n      <td>0.0</td>\n      <td>0.0</td>\n      <td>0.000000</td>\n      <td>0.0</td>\n      <td>...</td>\n      <td>0.0</td>\n      <td>0.0</td>\n      <td>0.0</td>\n      <td>0.0</td>\n      <td>0.000000</td>\n      <td>0.000000</td>\n      <td>0.0</td>\n      <td>0.0</td>\n      <td>0.0</td>\n      <td>0.0</td>\n    </tr>\n    <tr>\n      <th>5568</th>\n      <td>0.0</td>\n      <td>0.000000</td>\n      <td>0.0</td>\n      <td>0.0</td>\n      <td>0.000000</td>\n      <td>0.000000</td>\n      <td>0.0</td>\n      <td>0.0</td>\n      <td>0.000000</td>\n      <td>0.0</td>\n      <td>...</td>\n      <td>0.0</td>\n      <td>0.0</td>\n      <td>0.0</td>\n      <td>0.0</td>\n      <td>0.000000</td>\n      <td>0.000000</td>\n      <td>0.0</td>\n      <td>0.0</td>\n      <td>0.0</td>\n      <td>0.0</td>\n    </tr>\n    <tr>\n      <th>5569</th>\n      <td>0.0</td>\n      <td>0.000000</td>\n      <td>0.0</td>\n      <td>0.0</td>\n      <td>0.000000</td>\n      <td>0.000000</td>\n      <td>0.0</td>\n      <td>0.0</td>\n      <td>0.000000</td>\n      <td>0.0</td>\n      <td>...</td>\n      <td>0.0</td>\n      <td>0.0</td>\n      <td>0.0</td>\n      <td>0.0</td>\n      <td>0.000000</td>\n      <td>0.341614</td>\n      <td>0.0</td>\n      <td>0.0</td>\n      <td>0.0</td>\n      <td>0.0</td>\n    </tr>\n    <tr>\n      <th>5570</th>\n      <td>0.0</td>\n      <td>0.000000</td>\n      <td>0.0</td>\n      <td>0.0</td>\n      <td>0.000000</td>\n      <td>0.000000</td>\n      <td>0.0</td>\n      <td>0.0</td>\n      <td>0.224395</td>\n      <td>0.0</td>\n      <td>...</td>\n      <td>0.0</td>\n      <td>0.0</td>\n      <td>0.0</td>\n      <td>0.0</td>\n      <td>0.000000</td>\n      <td>0.000000</td>\n      <td>0.0</td>\n      <td>0.0</td>\n      <td>0.0</td>\n      <td>0.0</td>\n    </tr>\n    <tr>\n      <th>5571</th>\n      <td>0.0</td>\n      <td>0.000000</td>\n      <td>0.0</td>\n      <td>0.0</td>\n      <td>0.000000</td>\n      <td>0.000000</td>\n      <td>0.0</td>\n      <td>0.0</td>\n      <td>0.000000</td>\n      <td>0.0</td>\n      <td>...</td>\n      <td>0.0</td>\n      <td>0.0</td>\n      <td>0.0</td>\n      <td>0.0</td>\n      <td>0.000000</td>\n      <td>0.000000</td>\n      <td>0.0</td>\n      <td>0.0</td>\n      <td>0.0</td>\n      <td>0.0</td>\n    </tr>\n  </tbody>\n</table>\n<p>5572 rows × 30 columns</p>\n</div>"
     },
     "execution_count": 35,
     "metadata": {},
     "output_type": "execute_result"
    }
   ],
   "source": [
    "selector_RFE = RFE(RandomForestClassifier(), n_features_to_select=30, step=0.1)\n",
    "selector_RFE.fit(feature, target)\n",
    "feature_forest_RFE = feature[feature.columns[selector_RFE.get_support(indices=True)]]\n",
    "feature_forest_RFE"
   ],
   "metadata": {
    "collapsed": false,
    "ExecuteTime": {
     "start_time": "2023-05-25T14:56:55.183732Z",
     "end_time": "2023-05-25T14:57:13.227733Z"
    }
   }
  },
  {
   "cell_type": "code",
   "execution_count": 36,
   "outputs": [],
   "source": [
    "def tree(feature_train, feature_test, target_train):\n",
    "    clf = DecisionTreeClassifier()\n",
    "    clf.fit(feature_train, target_train)\n",
    "    return clf.predict(feature_test)\n",
    "\n",
    "def SVM(feature_train, feature_test, target_train):\n",
    "    clf = SVC()\n",
    "    clf.fit(feature_train, target_train)\n",
    "    return clf.predict(feature_test)\n",
    "\n",
    "def kneigh(feature_train, feature_test, target_train):\n",
    "    clf = KNeighborsClassifier()\n",
    "    clf.fit(feature_train, target_train)\n",
    "    return clf.predict(feature_test)"
   ],
   "metadata": {
    "collapsed": false,
    "ExecuteTime": {
     "start_time": "2023-05-25T14:57:13.337733Z",
     "end_time": "2023-05-25T14:57:13.397734Z"
    }
   }
  },
  {
   "cell_type": "code",
   "execution_count": 40,
   "outputs": [],
   "source": [
    "def check_clf(feature_full_train, feature_full_test, feature_cut_train, feature_cut_test, target_train, target_test, label=\"\"):\n",
    "    print(label)\n",
    "    print(f\"Tree. Old: {accuracy_score(target_test, tree(feature_full_train, feature_full_test, target_train))}, New: {accuracy_score(target_test, tree(feature_cut_train, feature_cut_test, target_train))}\")\n",
    "    print(f\"SVM. Old: {accuracy_score(target_test, SVM(feature_full_train, feature_full_test, target_train))}, New: {accuracy_score(target_test, SVM(feature_cut_train, feature_cut_test, target_train))}\")\n",
    "    print(f\"KNeigh. Old: {accuracy_score(target_test, kneigh(feature_full_train, feature_full_test, target_train))}, New: {accuracy_score(target_test, kneigh(feature_cut_train, feature_cut_test, target_train))}\")\n"
   ],
   "metadata": {
    "collapsed": false,
    "ExecuteTime": {
     "start_time": "2023-05-25T14:57:51.692498Z",
     "end_time": "2023-05-25T14:57:51.713151Z"
    }
   }
  },
  {
   "cell_type": "code",
   "execution_count": 60,
   "outputs": [],
   "source": [
    "x_train_from, x_test_from, y_train_from, y_test_from = train_test_split(feature_from_model, target, test_size=0.33, random_state=42)\n",
    "x_train_chi2, x_test_chi2, y_train_chi2, y_test_chi2 = train_test_split(feature_chi2, target, test_size=0.33, random_state=42)\n",
    "x_train_forest, x_test_forest, y_train_forest, y_test_forest = train_test_split(feature_forest_RFE, target, test_size=0.33, random_state=42)\n",
    "x_train_svm, x_test_svm, y_train_svm, y_test_svm = train_test_split(feature_svm, target, test_size=0.33, random_state=42)\n",
    "x_train_pearson, x_test_pearson, y_train_pearson, y_test_pearson = train_test_split(feature_pearson, target, test_size=0.33, random_state=42)\n"
   ],
   "metadata": {
    "collapsed": false,
    "ExecuteTime": {
     "start_time": "2023-05-25T15:53:08.275768Z",
     "end_time": "2023-05-25T15:53:08.301768Z"
    }
   }
  },
  {
   "cell_type": "code",
   "execution_count": 61,
   "outputs": [
    {
     "name": "stdout",
     "output_type": "stream",
     "text": [
      "SFS\n",
      "Tree. Old: 0.957041870581838, New: 0.8123980424143556\n",
      "SVM. Old: 0.9787928221859706, New: 0.8613376835236541\n",
      "KNeigh. Old: 0.9282218597063622, New: 0.8510059815116912\n",
      "SVM-RFE\n",
      "Tree. Old: 0.9575856443719413, New: 0.9651984774333877\n",
      "SVM. Old: 0.9787928221859706, New: 0.967373572593801\n",
      "KNeigh. Old: 0.9282218597063622, New: 0.9662860250135944\n",
      "Pearson\n",
      "Tree. Old: 0.9564980967917346, New: 0.9472539423599783\n",
      "SVM. Old: 0.9787928221859706, New: 0.9564980967917346\n",
      "KNeigh. Old: 0.9282218597063622, New: 0.9483414899401849\n",
      "From model\n",
      "Tree. Old: 0.9564980967917346, New: 0.9564980967917346\n",
      "SVM. Old: 0.9787928221859706, New: 0.977705274605764\n",
      "KNeigh. Old: 0.9282218597063622, New: 0.9363784665579119\n",
      "SelectKBest-Chi2\n",
      "Tree. Old: 0.9543230016313213, New: 0.945078847199565\n",
      "SVM. Old: 0.9787928221859706, New: 0.9564980967917346\n",
      "KNeigh. Old: 0.9282218597063622, New: 0.9494290375203915\n",
      "Forest-RFE\n",
      "Tree. Old: 0.9559543230016313, New: 0.9603045133224578\n",
      "SVM. Old: 0.9787928221859706, New: 0.9619358346927678\n",
      "KNeigh. Old: 0.9282218597063622, New: 0.9592169657422512\n"
     ]
    }
   ],
   "source": [
    "check_clf(X_train, X_test, X_train_sfs, X_test_sfs, y_train, y_test, \"SFS\")\n",
    "check_clf(X_train, X_test, x_train_svm, x_test_svm, y_train_svm, y_test_svm, \"SVM-RFE\")\n",
    "check_clf(X_train, X_test, x_train_pearson, x_test_pearson, y_train_pearson, y_test_pearson, \"Pearson\")\n",
    "check_clf(X_train, X_test, x_train_from, x_test_from, y_train_from, y_test_from, \"From model\")\n",
    "check_clf(X_train, X_test, x_train_chi2, x_test_chi2, y_train_chi2, y_test_chi2, \"SelectKBest-Chi2\")\n",
    "check_clf(X_train, X_test, x_train_forest, x_test_forest, y_train_forest, y_test_forest, \"Forest-RFE\")"
   ],
   "metadata": {
    "collapsed": false,
    "ExecuteTime": {
     "start_time": "2023-05-25T15:53:08.802767Z",
     "end_time": "2023-05-25T15:53:28.609765Z"
    }
   }
  },
  {
   "cell_type": "code",
   "execution_count": null,
   "outputs": [],
   "source": [],
   "metadata": {
    "collapsed": false,
    "ExecuteTime": {
     "start_time": "2023-05-24T21:05:14.424720Z",
     "end_time": "2023-05-24T21:05:14.440721Z"
    }
   }
  }
 ],
 "metadata": {
  "kernelspec": {
   "display_name": "Python 3",
   "language": "python",
   "name": "python3"
  },
  "language_info": {
   "codemirror_mode": {
    "name": "ipython",
    "version": 2
   },
   "file_extension": ".py",
   "mimetype": "text/x-python",
   "name": "python",
   "nbconvert_exporter": "python",
   "pygments_lexer": "ipython2",
   "version": "2.7.6"
  }
 },
 "nbformat": 4,
 "nbformat_minor": 0
}
